{
 "cells": [
  {
   "cell_type": "code",
   "execution_count": 14,
   "metadata": {
    "metadata": {}
   },
   "outputs": [
    {
     "name": "stderr",
     "output_type": "stream",
     "text": [
      "C:\\Users\\SanketNaw\\AppData\\Local\\Temp\\ipykernel_19460\\3143280038.py:14: DeprecationWarning: executable_path has been deprecated, please pass in a Service object\n",
      "  driver = webdriver.Chrome(PATH)\n"
     ]
    }
   ],
   "source": [
    "from selenium import webdriver\n",
    "from selenium.webdriver.common.keys import Keys\n",
    "import time\n",
    "from selenium.common.exceptions import NoSuchWindowException\n",
    "from selenium.webdriver.common.by import By\n",
    "from selenium.webdriver.support.ui import WebDriverWait\n",
    "from selenium.webdriver.support import expected_conditions as EC\n",
    "from selenium.common.exceptions import TimeoutException\n",
    "\n",
    "\n",
    "\n",
    "PATH = \"C:\\Program Files (x86)\\chromedriver.exe\"\n",
    "\n",
    "driver = webdriver.Chrome(PATH)\n",
    "\n",
    "driver.get(\"https://krb-sjobs.brassring.com/tgnewui/search/home/home?partnerid=26059&siteid=5016#home\")\n",
    "# Wait for the \"Accept All\" button to be clickable\n",
    "\n",
    "button = WebDriverWait(driver, 10).until(\n",
    "        EC.element_to_be_clickable((By.XPATH, \"//span[text()='Sign in with LinkedIn']\"))\n",
    "    )\n",
    "button.click()\n",
    "\n",
    "#window_handles = driver.window_handles\n",
    "\n",
    "\n",
    "WebDriverWait(driver, 30).until(EC.number_of_windows_to_be(2))\n",
    "\n",
    "# my Window Handle\n",
    "main_window = driver.window_handles[0]\n",
    "# Switch to popup window\n",
    "popup_window = driver.window_handles[1]\n",
    "driver.switch_to.window(popup_window)\n",
    "\n",
    "# Now in the popup window\n",
    "accept_button = WebDriverWait(driver, 30).until(\n",
    "    EC.element_to_be_clickable((By.XPATH, \"//button[contains(text(), 'Accept')]\"))\n",
    ")\n",
    "accept_button.click()\n",
    "\n",
    "username_input = WebDriverWait(driver, 30).until(\n",
    "        EC.visibility_of_element_located((By.ID, \"username\"))\n",
    "    )\n",
    "\n",
    "    # Input email address\n",
    "username_input.send_keys(\"abcd@outlook.com\")\n",
    "\n",
    "password_input = WebDriverWait(driver, 30).until(\n",
    "    EC.visibility_of_element_located((By.ID, \"password\"))\n",
    ")\n",
    "\n",
    "# Input password\n",
    "password_input.send_keys(\"xybdjsajy\")\n",
    "\n",
    "sign_in_button = WebDriverWait(driver, 30).until(\n",
    "    EC.element_to_be_clickable((By.XPATH, \"//button[contains(text(), 'Sign in')]\"))\n",
    ")\n",
    "\n",
    "\n",
    "sign_in_button.click()\n",
    "\n",
    "allow_button = WebDriverWait(driver, 30).until(\n",
    "    EC.element_to_be_clickable((By.ID, \"oauth__auth-form__submit-btn\"))\n",
    ")\n",
    "\n",
    "allow_button.click()\n",
    "\n",
    "driver.switch_to.window(main_window)  # Switch back to the main \n",
    "\n",
    "wait = WebDriverWait(driver, 20)\n",
    "time.sleep(20)\n",
    "job_search_link_2 = WebDriverWait(driver, 30).until(\n",
    "    EC.element_to_be_clickable((By.XPATH, \"//span[@class='UnderLineLink ng-binding' and text()='Job search']\"))\n",
    ")\n",
    "\n",
    "job_search_link_2.click()\n",
    "\n",
    "job_search_link_2 = WebDriverWait(driver, 30).until(\n",
    "    EC.element_to_be_clickable((By.XPATH, \"//span[@class='UnderLineLink ng-binding' and text()='Job search']\"))\n",
    ")\n",
    "\n",
    "job_search_link_2.click()\n",
    "\n",
    "\n"
   ]
  },
  {
   "cell_type": "code",
   "execution_count": 5,
   "metadata": {
    "metadata": {}
   },
   "outputs": [],
   "source": [
    "job_search_link_2 = WebDriverWait(driver, 30).until(\n",
    "    EC.element_to_be_clickable((By.XPATH, \"//span[@class='UnderLineLink ng-binding' and text()='Job search']\"))\n",
    ")\n",
    "\n",
    "job_search_link_2.click()"
   ]
  },
  {
   "cell_type": "code",
   "execution_count": 6,
   "metadata": {
    "metadata": {}
   },
   "outputs": [],
   "source": [
    "#########MY navigation ############\n",
    "search_button = WebDriverWait(driver, 30).until(\n",
    "        EC.element_to_be_clickable((By.XPATH, \"//span[@class='ladda-label' and contains(text(), 'Search')]\"))\n",
    "    )\n",
    "search_button.click()"
   ]
  },
  {
   "cell_type": "code",
   "execution_count": 54,
   "metadata": {},
   "outputs": [
    {
     "name": "stdout",
     "output_type": "stream",
     "text": [
      "Next button not found. Exiting loop.\n"
     ]
    }
   ],
   "source": [
    "Must = []\n",
    "\n",
    "while True:\n",
    "    links = driver.find_elements(By.XPATH, \"//a[@class='jobProperty jobtitle']\")\n",
    "    for link in links:\n",
    "        l = link.get_attribute(\"href\")\n",
    "        Must.append(l)\n",
    "    \n",
    "    try:\n",
    "        button = WebDriverWait(driver, 10).until(\n",
    "            EC.element_to_be_clickable((By.XPATH, \"//*[@id='showMoreJobs']\"))\n",
    "        )\n",
    "        button.click()\n",
    "    except:\n",
    "         print(\"Next button not found. Exiting loop.\")\n",
    "         break"
   ]
  },
  {
   "cell_type": "code",
   "execution_count": 1,
   "metadata": {},
   "outputs": [
    {
     "ename": "NameError",
     "evalue": "name 'Must' is not defined",
     "output_type": "error",
     "traceback": [
      "\u001b[1;31m---------------------------------------------------------------------------\u001b[0m",
      "\u001b[1;31mNameError\u001b[0m                                 Traceback (most recent call last)",
      "\u001b[1;32m~\\AppData\\Local\\Temp\\ipykernel_5940\\371426750.py\u001b[0m in \u001b[0;36m<module>\u001b[1;34m\u001b[0m\n\u001b[1;32m----> 1\u001b[1;33m \u001b[0mlen\u001b[0m\u001b[1;33m(\u001b[0m\u001b[0mset\u001b[0m\u001b[1;33m(\u001b[0m\u001b[0mMust\u001b[0m\u001b[1;33m)\u001b[0m\u001b[1;33m)\u001b[0m\u001b[1;33m\u001b[0m\u001b[1;33m\u001b[0m\u001b[0m\n\u001b[0m",
      "\u001b[1;31mNameError\u001b[0m: name 'Must' is not defined"
     ]
    }
   ],
   "source": [
    "len(set(Must))"
   ]
  },
  {
   "cell_type": "code",
   "execution_count": 58,
   "metadata": {},
   "outputs": [],
   "source": [
    "import pandas as pd\n",
    "\n",
    "df  = pd.DataFrame(columns = [\"link\"])\n",
    "df[\"link\"] = list(set(Must))"
   ]
  },
  {
   "cell_type": "code",
   "execution_count": 59,
   "metadata": {},
   "outputs": [],
   "source": [
    "df.to_csv(\"LinksIBM.csv\", index = False)"
   ]
  },
  {
   "cell_type": "code",
   "execution_count": null,
   "metadata": {},
   "outputs": [],
   "source": []
  },
  {
   "cell_type": "code",
   "execution_count": null,
   "metadata": {},
   "outputs": [],
   "source": []
  },
  {
   "cell_type": "code",
   "execution_count": 17,
   "metadata": {},
   "outputs": [],
   "source": [
    "\n",
    "job_link = WebDriverWait(driver, 30).until(\n",
    "    EC.element_to_be_clickable((By.ID, \"Job_2\"))\n",
    ")\n",
    "\n",
    "# Click on the job link\n",
    "job_link.click()"
   ]
  },
  {
   "cell_type": "code",
   "execution_count": 40,
   "metadata": {},
   "outputs": [],
   "source": [
    "driver.get(\"https://krb-sjobs.brassring.com/TGnewUI/Search/home/HomeWithPreLoad?partnerid=26059&siteid=5016&PageType=JobDetails&jobid=737513\")"
   ]
  },
  {
   "cell_type": "code",
   "execution_count": 11,
   "metadata": {
    "metadata": {}
   },
   "outputs": [],
   "source": [
    "def scroll_down(driver):\n",
    "    SCROLL_PAUSE_TIME = 0.5\n",
    "     # Get scroll height\n",
    "    last_height = driver.execute_script(\"return document.body.scrollHeight\")\n",
    "       \n",
    "    while True:\n",
    "        # Scroll down to bottom\n",
    "        driver.execute_script(\"window.scrollTo(0, document.body.scrollHeight);\")\n",
    "\n",
    "        # Wait to load page\n",
    "        time.sleep(SCROLL_PAUSE_TIME)\n",
    "\n",
    "        # Calculate new scroll height and compare with last scroll height\n",
    "        new_height = driver.execute_script(\"return document.body.scrollHeight\")\n",
    "        if new_height == last_height:\n",
    "            break\n",
    "        last_height = new_height"
   ]
  },
  {
   "cell_type": "code",
   "execution_count": null,
   "metadata": {
    "metadata": {}
   },
   "outputs": [],
   "source": [
    " applied_message = driver.find_element(By.XPATH, \"//span[@id='appLbl' and contains(text(), 'You have already applied for this job')]\")\n",
    "print"
   ]
  },
  {
   "cell_type": "code",
   "execution_count": 21,
   "metadata": {
    "metadata": {}
   },
   "outputs": [
    {
     "name": "stdout",
     "output_type": "stream",
     "text": [
      "You have already applied for this job. Skipping to the next link.\n",
      "The job posting has expired or the position has already been filled. Skipping to the next link.\n",
      "You have already applied for this job. Skipping to the next link.\n",
      "You have already applied for this job. Skipping to the next link.\n",
      "third\n",
      "Checkbox is already checked. Skipping.\n",
      "after switch\n",
      "third\n",
      "Checkbox is already checked. Skipping.\n"
     ]
    }
   ],
   "source": [
    "import pandas as pd\n",
    "import time\n",
    "\n",
    "df = pd.read_csv(\"LinksIBM.csv\")\n",
    "\n",
    "# Iterate over each link in the DataFrame\n",
    "for index, row in df.iterrows():\n",
    "    link = row['link']  # Assuming the column name containing links is 'Link'\n",
    "    \n",
    "    # Navigate to the link\n",
    "    driver.get(link)\n",
    "    try:\n",
    "        applied_message = driver.find_element(By.XPATH, \"//span[@id='appLbl' and contains(text(), 'You have already applied for this job')]\")\n",
    "        print(\"You have already applied for this job. Skipping to the next link.\")\n",
    "        continue  # Skip this link and move to the next one\n",
    "    except :\n",
    "        pass\n",
    "         \n",
    "    try:\n",
    "        expired_message = driver.find_element(By.XPATH, \"//span[@id='appLbl' and contains(text(), 'The job posting you are looking for has expired or the position has already been filled.')]\")\n",
    "        print(\"The job posting has expired or the position has already been filled. Skipping to the next link.\")\n",
    "        continue  # Skip this link and move to the next one\n",
    "    except  :\n",
    "        \n",
    "        \n",
    "\n",
    "        \n",
    "        scroll_down(driver)\n",
    "\n",
    "        apply_span = WebDriverWait(driver, 30).until(\n",
    "            EC.element_to_be_clickable((By.XPATH, \"//span[@class='ladda-label' and contains(text(), 'Apply to job(s)')]\"))\n",
    "            )\n",
    "        apply_span.click()\n",
    "\n",
    "        time.sleep(20)\n",
    "\n",
    "            \n",
    "        scroll_down(driver)\n",
    "        start_button = WebDriverWait(driver, 30).until(\n",
    "            EC.element_to_be_clickable((By.XPATH, \"//span[@class='ladda-label' and text()=\\\"Let's get started\\\"]\"))\n",
    "            )\n",
    "        start_button.click()\n",
    "        time.sleep(20)\n",
    "            \n",
    "        scroll_down(driver)\n",
    "        checkbox = WebDriverWait(driver, 30).until(\n",
    "            EC.presence_of_element_located((By.ID, \"checkbox-16445-I agree\"))\n",
    "        )\n",
    "\n",
    "            # Check if the checkbox is already checked\n",
    "        if not checkbox.is_selected():\n",
    "                # If not checked, click on it to tick the checkbox\n",
    "                checkbox.click()\n",
    "        time.sleep(20)\n",
    "\n",
    "        scroll_down(driver)\n",
    "        save_and_continue_button = WebDriverWait(driver, 30).until(\n",
    "            EC.element_to_be_clickable((By.XPATH, \"//span[contains(@class, 'ladda-label') and text()='Save and continue']\"))\n",
    "        )\n",
    "        save_and_continue_button.click()\n",
    "        time.sleep(20)\n",
    "\n",
    "            # Ensure the \"Save and continue\" button is clickable again before clicking it\n",
    "        scroll_down(driver)\n",
    "        save_and_continue_button = WebDriverWait(driver, 30).until(\n",
    "                EC.element_to_be_clickable((By.XPATH, \"//span[contains(@class, 'ladda-label') and text()='Save and continue']\"))\n",
    "            )\n",
    "        save_and_continue_button.click()\n",
    "        time.sleep(20)\n",
    "\n",
    "        try:\n",
    "            WebDriverWait(driver, 30).until(EC.presence_of_element_located((By.XPATH, \"//label[contains(@class, 'ListView') and contains(text(), 'Are you eligible/legally entitled to work in the country')]\")))\n",
    "            dropdown_arrow = WebDriverWait(driver, 30).until(\n",
    "            EC.element_to_be_clickable((By.XPATH, \"//span[@class='ui-selectmenu-text' and @id='custom_5091_32_fname_slt_0_5091-button_text']\"))\n",
    "            )\n",
    "            dropdown_arrow.click()\n",
    "            time.sleep(10)  # Wait for the dropdown to appear\n",
    "            option_yes = WebDriverWait(driver, 30).until(\n",
    "            EC.element_to_be_clickable((By.XPATH,  \"//li[@aria-label='Yes']\"))\n",
    "            )\n",
    "            option_yes.click()\n",
    "            time.sleep(20)\n",
    "            print(\"first\")\n",
    "        except:\n",
    "             pass\n",
    "\n",
    "        try:\n",
    "            WebDriverWait(driver, 30).until(EC.element_to_be_clickable((By.ID, \"custom_14660_214_fname_mslt_0_6141-input\")))\n",
    "            dropdown = WebDriverWait(driver, 30).until(\n",
    "            EC.element_to_be_clickable((By.ID, \"custom_14660_214_fname_mslt_0_6141-input\"))\n",
    "            )\n",
    "            dropdown.click()\n",
    "\n",
    "            # Wait for the search box\n",
    "            search_box = WebDriverWait(driver, 10).until(\n",
    "            EC.visibility_of_element_located((By.XPATH, \"//input[@id='custom_14660_214_fname_mslt_0_6141-input']\"))\n",
    "            )\n",
    "\n",
    "            # Input the text \"India\" into the search box\n",
    "            search_box.send_keys(\"India\")\n",
    "            # Locate and click on the desired option\n",
    "            dropdown_list = WebDriverWait(driver, 30).until(\n",
    "            EC.visibility_of_element_located((By.ID, \"custom_14660_214_fname_mslt_0_6141-input_listbox\"))\n",
    "            )\n",
    "\n",
    "            # Locate the option for \"India\" within the dropdown list\n",
    "            option_india = dropdown_list.find_element(By.XPATH, \"//div[contains(@id, 'ui-id-') and contains(text(), 'India')]\")\n",
    "\n",
    "            # Click on the option for \"India\"\n",
    "            option_india.click()\n",
    "            time.sleep(10)\n",
    "            print(\"second\")\n",
    "        except:\n",
    "             pass\n",
    "\n",
    "        try:\n",
    "            WebDriverWait(driver, 30).until(EC.presence_of_element_located((By.XPATH, \"//label[contains(@class, 'ListView') and contains(text(), 'Please state your gender') and contains(text(), 'voluntary')]\")))\n",
    "            dropdown_arrow = WebDriverWait(driver, 30).until(\n",
    "            EC.element_to_be_clickable((By.XPATH, \"//span[@class='ui-selectmenu-text' and @id='custom_15683_214_fname_slt_0_15683-button_text']\"))\n",
    "                )\n",
    "            dropdown_arrow.click()\n",
    "            male_option = WebDriverWait(driver, 10).until(\n",
    "            EC.element_to_be_clickable((By.XPATH, \"//li[@aria-label='Male']\"))\n",
    "            )\n",
    "            male_option.click()\n",
    "                # Wait for the options to be filtered based on the search text\n",
    "            # You may need to wait for a brief moment for the options to be filtered\n",
    "            time.sleep(10)  # Adjust the wait time as needed\n",
    "            print(\"third\")\n",
    "        except:\n",
    "             pass\n",
    "        try:\n",
    "            # Check if the label is present on the page\n",
    "            label = WebDriverWait(driver, 10).until(EC.presence_of_element_located((By.XPATH, \"//label[contains(@class, 'ListView') and contains(text(), 'Are you legally authorized to work in the United States?')]\")))\n",
    "    \n",
    "            # If the label is found, locate and select the corresponding radio button\n",
    "            if label:\n",
    "                radio_button = driver.find_element(By.XPATH, \"//input[@id='radio-7384-Yes']\")\n",
    "                radio_button.click()\n",
    "                time.sleep(20)\n",
    "                print(\"Radio button selected successfully.\")\n",
    "        except:\n",
    "             pass\n",
    "        try:\n",
    "        # Check if the first label is present on the page\n",
    "            label1 = WebDriverWait(driver, 10).until(EC.presence_of_element_located((By.XPATH, \"//label[contains(@class, 'ListView') and contains(text(), 'Will you now or in the future require our Company to file an application for employment-based visa sponsorship?')]\")))\n",
    "    \n",
    "        # If the first label is found, locate and select the corresponding radio button\n",
    "            if label1:\n",
    "                radio_button1 = driver.find_element(By.XPATH, \"//input[@id='radio-7385-Yes']\")\n",
    "                radio_button1.click()\n",
    "                time.sleep(20)\n",
    "                print(\"Radio button for the first label selected successfully.\")\n",
    "        except:\n",
    "             pass\n",
    "        \n",
    "        try:\n",
    "            # Check if the checkbox label with specific text is present on the page\n",
    "            checkbox_label1 = WebDriverWait(driver, 10).until(\n",
    "            EC.presence_of_element_located((By.XPATH, \"//label[contains(text(), 'I authorize the use of my responses to these questions to help with the Company')]\"))\n",
    "            )\n",
    "\n",
    "            # If the checkbox label is found, locate and check the corresponding checkbox\n",
    "            if checkbox_label1:\n",
    "                checkbox = checkbox_label1.find_element(By.XPATH, \".//preceding-sibling::input[@type='checkbox']\")\n",
    "        \n",
    "                # Check if the checkbox is not already checked\n",
    "                if not checkbox.is_selected():\n",
    "                    checkbox.click()\n",
    "                    time.sleep(20)\n",
    "                    print(\"Checkbox for Diversity and Inclusion program consent selected successfully.\")\n",
    "                else:\n",
    "                    print(\"Checkbox is already checked. Skipping.\")\n",
    "        except :\n",
    "            pass\n",
    " \n",
    "\n",
    "        try:\n",
    "            # Check if the checkbox label with specific text is present on the page\n",
    "            checkbox_label = WebDriverWait(driver, 10).until(\n",
    "            EC.presence_of_element_located((By.XPATH, \"//label[contains(text(), 'I authorize the use of my responses to be invited to Diversity Events')]\"))\n",
    "            )\n",
    "\n",
    "            # If the checkbox label is found, locate and check the corresponding checkbox\n",
    "            if checkbox_label:\n",
    "                checkbox = checkbox_label.find_element(By.XPATH, \"./preceding-sibling::input[@type='checkbox']\")\n",
    "        \n",
    "                # Check if the checkbox is not already checked\n",
    "                if not checkbox.is_selected():\n",
    "                    checkbox.click()\n",
    "                    print(\"Checkbox selected successfully.\")\n",
    "            else:\n",
    "                print(\"Checkbox is already checked. Skipping.\")\n",
    "        except :\n",
    "            pass\n",
    "        \n",
    "    \n",
    "        \n",
    "        try:\n",
    "                # Check if the label for Gender is present on the page\n",
    "            gender_label = WebDriverWait(driver, 10).until(\n",
    "            EC.presence_of_element_located((By.XPATH, \"//label[contains(text(), 'Gender')]\"))\n",
    "            )\n",
    "    \n",
    "             # If the Gender label is found, locate and select the \"Male\" radio button\n",
    "            if gender_label:\n",
    "                male_radio_button = driver.find_element(By.XPATH, \"//input[@id='radio-14206-OptMale']\")\n",
    "                male_radio_button.click()\n",
    "                time.sleep(20)\n",
    "                print(\"Radio button for Male selected successfully.\")\n",
    "        except  :\n",
    "            pass\n",
    "\n",
    "        try:\n",
    "            # Check if the label with \"Please check one of the boxes below\" is present on the page\n",
    "            label_2P = WebDriverWait(driver, 10).until(\n",
    "            EC.presence_of_element_located((By.XPATH, \"//label[contains(@class, 'ListView') and contains(text(), 'Please check one of the boxes below')]\"))\n",
    "            )\n",
    "\n",
    "            # If the label is found, locate and select the \"No\" radio button\n",
    "            if label_2P:\n",
    "                no_radio_button = driver.find_element(By.XPATH, \"//input[@id='radio-14232-N']\")\n",
    "                no_radio_button.click()\n",
    "                time.sleep(20)\n",
    "                print(\"Radio button for 'No' selected successfully.\")\n",
    "        except :\n",
    "            pass\n",
    "        time.sleep(10)\n",
    "\n",
    "        try:\n",
    "                # Check if the label with \"Your Name\" is present on the page\n",
    "            label_3Y = WebDriverWait(driver, 10).until(\n",
    "            EC.presence_of_element_located((By.XPATH, \"//label[@id='custom_14233_278_fname_txt_0-label' and contains(text(), 'Your Name')]\"))\n",
    "            )\n",
    "\n",
    "                 # If the label is found, locate the corresponding text box and input the text\n",
    "            if label_3Y:\n",
    "                text_box = driver.find_element(By.XPATH, \"//input[@id='custom_14233_278_fname_txt_0']\")\n",
    "        \n",
    "                 # Check if the text box is empty\n",
    "                if not text_box.get_attribute(\"value\"):\n",
    "                    text_box.send_keys(\"Sanket Sharad Nawale\")\n",
    "                    print(\"Text box filled with 'Sanket Sharad Nawale' successfully.\")\n",
    "            else:\n",
    "                print(\"Text box already contains input. Skipping.\")\n",
    "        except :\n",
    "            pass\n",
    "            \n",
    "        time.sleep(10)\n",
    "\n",
    "        try:\n",
    "                # Check if the label with specific text is present on the page\n",
    "            label = WebDriverWait(driver, 10).until(\n",
    "            EC.presence_of_element_located((By.XPATH, \"//span[contains(text(), 'First name')]/ancestor::label\"))\n",
    "            )\n",
    "\n",
    "                # If the label is found, locate the corresponding text box and input the first name\n",
    "            if label:\n",
    "                text_box = label.find_element(By.XPATH, \"./following-sibling::div/input\")\n",
    "        \n",
    "                    # Check if the text box is empty\n",
    "                if not text_box.get_attribute(\"value\"):\n",
    "                    text_box.send_keys(\"Sanket Sharad\")\n",
    "                    print(\"First name 'Sanket Sharad' entered successfully.\")\n",
    "            else:\n",
    "                    print(\"Text box already contains input. Skipping.\")\n",
    "        except :\n",
    "            pass\n",
    "        time.sleep(10)\n",
    "        \n",
    "        try:\n",
    "            # Check if the label with specific text is present on the page\n",
    "            label = WebDriverWait(driver, 10).until(\n",
    "            EC.presence_of_element_located((By.XPATH, \"//span[contains(text(), 'Last name')]/ancestor::label\"))\n",
    "            )\n",
    "\n",
    "            # If the label is found, locate the corresponding text box and input the last name\n",
    "            if label:\n",
    "                text_box = label.find_element(By.XPATH, \"./following-sibling::div/input\")\n",
    "        \n",
    "                 # Check if the text box is empty\n",
    "                if not text_box.get_attribute(\"value\"):\n",
    "                    text_box.send_keys(\"Nawale\")\n",
    "                    print(\"Last name 'Nawale' entered successfully.\")\n",
    "            else:\n",
    "                print(\"Text box already contains input. Skipping.\")\n",
    "        except :\n",
    "             pass\n",
    "        \n",
    "        time.sleep(10)\n",
    "    \n",
    "        scroll_down(driver)\n",
    "        wait = WebDriverWait(driver, 20)\n",
    "        add_resume_link = WebDriverWait(driver, 30).until(\n",
    "                EC.element_to_be_clickable((By.XPATH, \"//a[contains(text(), 'Add résumé/CV')]\"))\n",
    "            )\n",
    "        add_resume_link.click()\n",
    "        time.sleep(20)\n",
    "\n",
    "            # Switch to the iframe\n",
    "        iframe = WebDriverWait(driver, 30).until(\n",
    "                EC.presence_of_element_located((By.XPATH, '/html/body/div[5]/div[2]/iframe'))\n",
    "            )\n",
    "        driver.switch_to.frame(iframe)\n",
    "        time.sleep(20)\n",
    "\n",
    "        print(\"after switch\")\n",
    "\n",
    "            # Now you can interact with elements inside the iframe\n",
    "        saved_resumes_button = WebDriverWait(driver, 30).until(\n",
    "                EC.element_to_be_clickable((By.XPATH, \"//span[@class='button-label' and text()='Saved résumés/CVs']\"))\n",
    "            )\n",
    "\n",
    "            # Click on the button\n",
    "        saved_resumes_button.click()\n",
    "        time.sleep(20)\n",
    "\n",
    "        wait = WebDriverWait(driver, 20)\n",
    "        radio_button = WebDriverWait(driver, 30).until(\n",
    "                EC.element_to_be_clickable((By.XPATH, \"//label[contains(@class, 'ng-binding') and text()='CV_Sanket_Nawale_M.pdf']\"))\n",
    "            )\n",
    "\n",
    "            # Click on the radio button to select the option\n",
    "        radio_button.click()\n",
    "        time.sleep(20)\n",
    "\n",
    "        wait = WebDriverWait(driver, 20)\n",
    "        add_file_button = WebDriverWait(driver, 30).until(\n",
    "                EC.element_to_be_clickable((By.XPATH, \"//span[@class='button-label' and text()='Add file']\"))\n",
    "            )\n",
    "\n",
    "            # Click on the \"Add file\" button\n",
    "        add_file_button.click()\n",
    "        time.sleep(20)\n",
    "\n",
    "        wait = WebDriverWait(driver, 20)\n",
    "        driver.switch_to.window(main_window)\n",
    "\n",
    "        scroll_down(driver)\n",
    "            # Wait for the \"Save and continue\" button to be clickable\n",
    "        save_and_continue_button = WebDriverWait(driver, 30).until(\n",
    "                EC.element_to_be_clickable((By.XPATH, \"//span[@class='ladda-label' and text()='Save and continue']\"))\n",
    "            )\n",
    "\n",
    "            # Click on the \"Save and continue\" button\n",
    "        save_and_continue_button.click()\n",
    "        time.sleep(20)\n",
    "\n",
    "        scroll_down(driver)\n",
    "        wait = WebDriverWait(driver, 20)\n",
    "        send_application_button = WebDriverWait(driver, 30).until(\n",
    "                EC.element_to_be_clickable((By.XPATH, \"//span[@class='ladda-label' and text()='Send my application']\"))\n",
    "            )\n",
    "\n",
    "            # Click on the \"Send my application\" button\n",
    "        send_application_button.click()\n"
   ]
  },
  {
   "cell_type": "code",
   "execution_count": 20,
   "metadata": {},
   "outputs": [
    {
     "name": "stdout",
     "output_type": "stream",
     "text": [
      "First name 'Sanket Sharad' entered successfully.\n"
     ]
    }
   ],
   "source": [
    "try:\n",
    "    # Check if the label with specific text is present on the page\n",
    "    label = WebDriverWait(driver, 10).until(\n",
    "        EC.presence_of_element_located((By.XPATH, \"//span[contains(text(), 'First name')]/ancestor::label\"))\n",
    "    )\n",
    "\n",
    "    # If the label is found, locate the corresponding text box and input the first name\n",
    "    if label:\n",
    "        text_box = label.find_element(By.XPATH, \"./following-sibling::div/input\")\n",
    "        \n",
    "        # Check if the text box is empty\n",
    "        if not text_box.get_attribute(\"value\"):\n",
    "            text_box.send_keys(\"Sanket Sharad\")\n",
    "            print(\"First name 'Sanket Sharad' entered successfully.\")\n",
    "        else:\n",
    "            print(\"Text box already contains input. Skipping.\")\n",
    "except :\n",
    "    print(\"Label or text box not found on the page.\")"
   ]
  },
  {
   "cell_type": "code",
   "execution_count": 17,
   "metadata": {},
   "outputs": [
    {
     "name": "stdout",
     "output_type": "stream",
     "text": [
      "Last name 'Nawale' entered successfully.\n"
     ]
    }
   ],
   "source": [
    "try:\n",
    "    # Check if the label with specific text is present on the page\n",
    "    label = WebDriverWait(driver, 10).until(\n",
    "        EC.presence_of_element_located((By.XPATH, \"//span[contains(text(), 'Last name')]/ancestor::label\"))\n",
    "    )\n",
    "\n",
    "    # If the label is found, locate the corresponding text box and input the last name\n",
    "    if label:\n",
    "        text_box = label.find_element(By.XPATH, \"./following-sibling::div/input\")\n",
    "        text_box.send_keys(\"Nawale\")\n",
    "        print(\"Last name 'Nawale' entered successfully.\")\n",
    "except NoSuchElementException:\n",
    "    print(\"Label or text box not found on the page.\")"
   ]
  },
  {
   "cell_type": "code",
   "execution_count": 16,
   "metadata": {},
   "outputs": [
    {
     "name": "stdout",
     "output_type": "stream",
     "text": [
      "First name 'Sanket Sharad' entered successfully.\n"
     ]
    }
   ],
   "source": [
    "try:\n",
    "    # Check if the label with specific text is present on the page\n",
    "    label = WebDriverWait(driver, 10).until(\n",
    "        EC.presence_of_element_located((By.XPATH, \"//span[contains(text(), 'First name')]/ancestor::label\"))\n",
    "    )\n",
    "\n",
    "    # If the label is found, locate the corresponding text box and input the first name\n",
    "    if label:\n",
    "        text_box = label.find_element(By.XPATH, \"./following-sibling::div/input\")\n",
    "        text_box.send_keys(\"Sanket Sharad\")\n",
    "        print(\"First name 'Sanket Sharad' entered successfully.\")\n",
    "except NoSuchElementException:\n",
    "    print(\"Label or text box not found on the page.\")"
   ]
  },
  {
   "cell_type": "code",
   "execution_count": 9,
   "metadata": {},
   "outputs": [
    {
     "name": "stdout",
     "output_type": "stream",
     "text": [
      "Checkbox selected successfully.\n"
     ]
    }
   ],
   "source": [
    "        try:\n",
    "            # Check if the checkbox label with specific text is present on the page\n",
    "            checkbox_label = WebDriverWait(driver, 10).until(\n",
    "            EC.presence_of_element_located((By.XPATH, \"//label[contains(text(), 'I authorize the use of my responses to these questions to be invited to Diversity Events')]\"))\n",
    "            )\n",
    "\n",
    "            # If the checkbox label is found, locate and check the corresponding checkbox\n",
    "            if checkbox_label:\n",
    "                checkbox = checkbox_label.find_element(By.XPATH, \"./preceding-sibling::input[@type='checkbox']\")\n",
    "                checkbox.click()\n",
    "                print(\"Checkbox selected successfully.\")\n",
    "        except :\n",
    "            pass"
   ]
  },
  {
   "cell_type": "code",
   "execution_count": 117,
   "metadata": {
    "metadata": {}
   },
   "outputs": [],
   "source": [
    "mt = WebDriverWait(driver, 30).until(EC.presence_of_element_located((By.XPATH, \"//label[contains(@class, 'ListView') and contains(text(), 'Please state your gender') and contains(text(), 'voluntary')]\")))\n",
    "dropdown_arrow = WebDriverWait(driver, 30).until(\n",
    "    EC.element_to_be_clickable((By.XPATH, \"//span[@class='ui-selectmenu-text' and @id='custom_15683_214_fname_slt_0_15683-button_text']\"))\n",
    "    )\n",
    "dropdown_arrow.click()\n",
    "male_option = WebDriverWait(driver, 10).until(\n",
    "EC.element_to_be_clickable((By.XPATH, \"//li[@aria-label='Male']\"))\n",
    ")\n",
    "male_option.click()\n",
    "     # Wait for the options to be filtered based on the search text\n",
    "    # You may need to wait for a brief moment for the options to be filtered\n",
    "time.sleep(10)  # Adjust the wait time as needed"
   ]
  },
  {
   "cell_type": "code",
   "execution_count": 87,
   "metadata": {
    "metadata": {}
   },
   "outputs": [
    {
     "ename": "TimeoutException",
     "evalue": "Message: \n",
     "output_type": "error",
     "traceback": [
      "\u001b[1;31m---------------------------------------------------------------------------\u001b[0m",
      "\u001b[1;31mTimeoutException\u001b[0m                          Traceback (most recent call last)",
      "\u001b[1;32m~\\AppData\\Local\\Temp\\ipykernel_5444\\1674987604.py\u001b[0m in \u001b[0;36m<module>\u001b[1;34m\u001b[0m\n\u001b[0;32m      1\u001b[0m \u001b[1;32mif\u001b[0m \u001b[0meligibility_question\u001b[0m\u001b[1;33m:\u001b[0m\u001b[1;33m\u001b[0m\u001b[1;33m\u001b[0m\u001b[0m\n\u001b[0;32m      2\u001b[0m     \u001b[0mtime\u001b[0m\u001b[1;33m.\u001b[0m\u001b[0msleep\u001b[0m\u001b[1;33m(\u001b[0m\u001b[1;36m5\u001b[0m\u001b[1;33m)\u001b[0m\u001b[1;33m\u001b[0m\u001b[1;33m\u001b[0m\u001b[0m\n\u001b[1;32m----> 3\u001b[1;33m     dropdown_window = WebDriverWait(driver, 30).until(\n\u001b[0m\u001b[0;32m      4\u001b[0m         \u001b[0mEC\u001b[0m\u001b[1;33m.\u001b[0m\u001b[0mvisibility_of_element_located\u001b[0m\u001b[1;33m(\u001b[0m\u001b[1;33m(\u001b[0m\u001b[0mBy\u001b[0m\u001b[1;33m.\u001b[0m\u001b[0mXPATH\u001b[0m\u001b[1;33m,\u001b[0m \u001b[1;34m\"//ul[@id='custom_5091_32_fname_slt_0_5091-menu']\"\u001b[0m\u001b[1;33m)\u001b[0m\u001b[1;33m)\u001b[0m\u001b[1;33m\u001b[0m\u001b[1;33m\u001b[0m\u001b[0m\n\u001b[0;32m      5\u001b[0m     )\n",
      "\u001b[1;32m~\\AppData\\Roaming\\Python\\Python39\\site-packages\\selenium\\webdriver\\support\\wait.py\u001b[0m in \u001b[0;36muntil\u001b[1;34m(self, method, message)\u001b[0m\n\u001b[0;32m     93\u001b[0m             \u001b[1;32mif\u001b[0m \u001b[0mtime\u001b[0m\u001b[1;33m.\u001b[0m\u001b[0mmonotonic\u001b[0m\u001b[1;33m(\u001b[0m\u001b[1;33m)\u001b[0m \u001b[1;33m>\u001b[0m \u001b[0mend_time\u001b[0m\u001b[1;33m:\u001b[0m\u001b[1;33m\u001b[0m\u001b[1;33m\u001b[0m\u001b[0m\n\u001b[0;32m     94\u001b[0m                 \u001b[1;32mbreak\u001b[0m\u001b[1;33m\u001b[0m\u001b[1;33m\u001b[0m\u001b[0m\n\u001b[1;32m---> 95\u001b[1;33m         \u001b[1;32mraise\u001b[0m \u001b[0mTimeoutException\u001b[0m\u001b[1;33m(\u001b[0m\u001b[0mmessage\u001b[0m\u001b[1;33m,\u001b[0m \u001b[0mscreen\u001b[0m\u001b[1;33m,\u001b[0m \u001b[0mstacktrace\u001b[0m\u001b[1;33m)\u001b[0m\u001b[1;33m\u001b[0m\u001b[1;33m\u001b[0m\u001b[0m\n\u001b[0m\u001b[0;32m     96\u001b[0m \u001b[1;33m\u001b[0m\u001b[0m\n\u001b[0;32m     97\u001b[0m     \u001b[1;32mdef\u001b[0m \u001b[0muntil_not\u001b[0m\u001b[1;33m(\u001b[0m\u001b[0mself\u001b[0m\u001b[1;33m,\u001b[0m \u001b[0mmethod\u001b[0m\u001b[1;33m,\u001b[0m \u001b[0mmessage\u001b[0m\u001b[1;33m:\u001b[0m \u001b[0mstr\u001b[0m \u001b[1;33m=\u001b[0m \u001b[1;34m\"\"\u001b[0m\u001b[1;33m)\u001b[0m\u001b[1;33m:\u001b[0m\u001b[1;33m\u001b[0m\u001b[1;33m\u001b[0m\u001b[0m\n",
      "\u001b[1;31mTimeoutException\u001b[0m: Message: \n"
     ]
    }
   ],
   "source": [
    "if eligibility_question:\n",
    "    time.sleep(5)\n",
    "    dropdown_window = WebDriverWait(driver, 30).until(\n",
    "        EC.visibility_of_element_located((By.XPATH, \"//ul[@id='custom_5091_32_fname_slt_0_5091-menu']\"))\n",
    "    )\n",
    "    time.sleep(5)\n",
    "    # Locate the \"Yes\" option and click on it\n",
    "    option_yes = WebDriverWait(dropdown_window, 30).until(\n",
    "        EC.element_to_be_clickable((By.XPATH, \"//li[@aria-label='Yes']\"))\n",
    "    )\n",
    "    option_yes.click()\n",
    "else:\n",
    "    # Handle the case where the eligibility question is not present\n",
    "    pass"
   ]
  },
  {
   "cell_type": "code",
   "execution_count": 90,
   "metadata": {
    "metadata": {}
   },
   "outputs": [
    {
     "ename": "KeyboardInterrupt",
     "evalue": "",
     "output_type": "error",
     "traceback": [
      "\u001b[1;31m---------------------------------------------------------------------------\u001b[0m",
      "\u001b[1;31mKeyboardInterrupt\u001b[0m                         Traceback (most recent call last)",
      "\u001b[1;32m~\\AppData\\Local\\Temp\\ipykernel_5444\\3695283724.py\u001b[0m in \u001b[0;36m<module>\u001b[1;34m\u001b[0m\n\u001b[0;32m      3\u001b[0m )\n\u001b[0;32m      4\u001b[0m \u001b[0mtime\u001b[0m\u001b[1;33m.\u001b[0m\u001b[0msleep\u001b[0m\u001b[1;33m(\u001b[0m\u001b[1;36m10\u001b[0m\u001b[1;33m)\u001b[0m\u001b[1;33m\u001b[0m\u001b[1;33m\u001b[0m\u001b[0m\n\u001b[1;32m----> 5\u001b[1;33m dropdown_window = WebDriverWait(driver, 30).until(\n\u001b[0m\u001b[0;32m      6\u001b[0m     \u001b[0mEC\u001b[0m\u001b[1;33m.\u001b[0m\u001b[0mvisibility_of_element_located\u001b[0m\u001b[1;33m(\u001b[0m\u001b[1;33m(\u001b[0m\u001b[0mBy\u001b[0m\u001b[1;33m.\u001b[0m\u001b[0mXPATH\u001b[0m\u001b[1;33m,\u001b[0m \u001b[1;34m\"//ul[@id='custom_5091_32_fname_slt_0_5091-menu']\"\u001b[0m\u001b[1;33m)\u001b[0m\u001b[1;33m)\u001b[0m\u001b[1;33m\u001b[0m\u001b[1;33m\u001b[0m\u001b[0m\n\u001b[0;32m      7\u001b[0m )\n",
      "\u001b[1;32m~\\AppData\\Roaming\\Python\\Python39\\site-packages\\selenium\\webdriver\\support\\wait.py\u001b[0m in \u001b[0;36muntil\u001b[1;34m(self, method, message)\u001b[0m\n\u001b[0;32m     90\u001b[0m                 \u001b[0mscreen\u001b[0m \u001b[1;33m=\u001b[0m \u001b[0mgetattr\u001b[0m\u001b[1;33m(\u001b[0m\u001b[0mexc\u001b[0m\u001b[1;33m,\u001b[0m \u001b[1;34m\"screen\"\u001b[0m\u001b[1;33m,\u001b[0m \u001b[1;32mNone\u001b[0m\u001b[1;33m)\u001b[0m\u001b[1;33m\u001b[0m\u001b[1;33m\u001b[0m\u001b[0m\n\u001b[0;32m     91\u001b[0m                 \u001b[0mstacktrace\u001b[0m \u001b[1;33m=\u001b[0m \u001b[0mgetattr\u001b[0m\u001b[1;33m(\u001b[0m\u001b[0mexc\u001b[0m\u001b[1;33m,\u001b[0m \u001b[1;34m\"stacktrace\"\u001b[0m\u001b[1;33m,\u001b[0m \u001b[1;32mNone\u001b[0m\u001b[1;33m)\u001b[0m\u001b[1;33m\u001b[0m\u001b[1;33m\u001b[0m\u001b[0m\n\u001b[1;32m---> 92\u001b[1;33m             \u001b[0mtime\u001b[0m\u001b[1;33m.\u001b[0m\u001b[0msleep\u001b[0m\u001b[1;33m(\u001b[0m\u001b[0mself\u001b[0m\u001b[1;33m.\u001b[0m\u001b[0m_poll\u001b[0m\u001b[1;33m)\u001b[0m\u001b[1;33m\u001b[0m\u001b[1;33m\u001b[0m\u001b[0m\n\u001b[0m\u001b[0;32m     93\u001b[0m             \u001b[1;32mif\u001b[0m \u001b[0mtime\u001b[0m\u001b[1;33m.\u001b[0m\u001b[0mmonotonic\u001b[0m\u001b[1;33m(\u001b[0m\u001b[1;33m)\u001b[0m \u001b[1;33m>\u001b[0m \u001b[0mend_time\u001b[0m\u001b[1;33m:\u001b[0m\u001b[1;33m\u001b[0m\u001b[1;33m\u001b[0m\u001b[0m\n\u001b[0;32m     94\u001b[0m                 \u001b[1;32mbreak\u001b[0m\u001b[1;33m\u001b[0m\u001b[1;33m\u001b[0m\u001b[0m\n",
      "\u001b[1;31mKeyboardInterrupt\u001b[0m: "
     ]
    }
   ],
   "source": [
    "eligibility_question = WebDriverWait(driver, 30).until(\n",
    "    EC.presence_of_element_located((By.XPATH, \"//label[contains(@class, 'ListView') and contains(text(), 'Are you eligible/legally entitled to work in the country')]\"))\n",
    ")\n",
    "time.sleep(10)\n",
    "dropdown_window = WebDriverWait(driver, 30).until(\n",
    "    EC.visibility_of_element_located((By.XPATH, \"//ul[@id='custom_5091_32_fname_slt_0_5091-menu']\"))\n",
    ")\n",
    "time.sleep(10)\n",
    "# Locate the \"Yes\" option and click on it\n",
    "option_yes = WebDriverWait(dropdown_window, 30).until(\n",
    "    EC.element_to_be_clickable((By.XPATH, \"//li[@aria-label='Yes']\"))\n",
    ")\n",
    "option_yes.click()"
   ]
  },
  {
   "cell_type": "code",
   "execution_count": 94,
   "metadata": {
    "metadata": {}
   },
   "outputs": [
    {
     "ename": "KeyboardInterrupt",
     "evalue": "",
     "output_type": "error",
     "traceback": [
      "\u001b[1;31m---------------------------------------------------------------------------\u001b[0m",
      "\u001b[1;31mKeyboardInterrupt\u001b[0m                         Traceback (most recent call last)",
      "\u001b[1;32m~\\AppData\\Local\\Temp\\ipykernel_5444\\4267309849.py\u001b[0m in \u001b[0;36m<module>\u001b[1;34m\u001b[0m\n\u001b[0;32m     11\u001b[0m )\n\u001b[0;32m     12\u001b[0m \u001b[0moption_yes\u001b[0m\u001b[1;33m.\u001b[0m\u001b[0mclick\u001b[0m\u001b[1;33m(\u001b[0m\u001b[1;33m)\u001b[0m\u001b[1;33m\u001b[0m\u001b[1;33m\u001b[0m\u001b[0m\n\u001b[1;32m---> 13\u001b[1;33m \u001b[0mtime\u001b[0m\u001b[1;33m.\u001b[0m\u001b[0msleep\u001b[0m\u001b[1;33m(\u001b[0m\u001b[1;36m20\u001b[0m\u001b[1;33m)\u001b[0m\u001b[1;33m\u001b[0m\u001b[1;33m\u001b[0m\u001b[0m\n\u001b[0m",
      "\u001b[1;31mKeyboardInterrupt\u001b[0m: "
     ]
    }
   ],
   "source": [
    "eligibility_question = WebDriverWait(driver, 30).until(\n",
    "    EC.presence_of_element_located((By.XPATH, \"//label[contains(@class, 'ListView') and contains(text(), 'Are you eligible/legally entitled to work in the country')]\"))\n",
    ")\n",
    "dropdown_arrow = WebDriverWait(driver, 30).until(\n",
    "    EC.element_to_be_clickable((By.XPATH, \"//span[@class='ui-selectmenu-text' and @id='custom_5091_32_fname_slt_0_5091-button_text']\"))\n",
    ")\n",
    "dropdown_arrow.click()\n",
    "time.sleep(10)  # Wait for the dropdown to appear\n",
    "option_yes = WebDriverWait(driver, 30).until(\n",
    "    EC.element_to_be_clickable((By.XPATH,  \"//li[@aria-label='Yes']\"))\n",
    ")\n",
    "option_yes.click()\n",
    "time.sleep(20)"
   ]
  },
  {
   "cell_type": "code",
   "execution_count": 7,
   "metadata": {
    "metadata": {}
   },
   "outputs": [
    {
     "ename": "TimeoutException",
     "evalue": "Message: \n",
     "output_type": "error",
     "traceback": [
      "\u001b[1;31m---------------------------------------------------------------------------\u001b[0m",
      "\u001b[1;31mTimeoutException\u001b[0m                          Traceback (most recent call last)",
      "\u001b[1;32m~\\AppData\\Local\\Temp\\ipykernel_17804\\2177925097.py\u001b[0m in \u001b[0;36m<module>\u001b[1;34m\u001b[0m\n\u001b[0;32m      1\u001b[0m \u001b[1;31m# Click on the dropdown to expand it\u001b[0m\u001b[1;33m\u001b[0m\u001b[1;33m\u001b[0m\u001b[0m\n\u001b[1;32m----> 2\u001b[1;33m dropdown = WebDriverWait(driver, 30).until(\n\u001b[0m\u001b[0;32m      3\u001b[0m     \u001b[0mEC\u001b[0m\u001b[1;33m.\u001b[0m\u001b[0melement_to_be_clickable\u001b[0m\u001b[1;33m(\u001b[0m\u001b[1;33m(\u001b[0m\u001b[0mBy\u001b[0m\u001b[1;33m.\u001b[0m\u001b[0mID\u001b[0m\u001b[1;33m,\u001b[0m \u001b[1;34m\"custom_14660_214_fname_mslt_0_6141-input\"\u001b[0m\u001b[1;33m)\u001b[0m\u001b[1;33m)\u001b[0m\u001b[1;33m\u001b[0m\u001b[1;33m\u001b[0m\u001b[0m\n\u001b[0;32m      4\u001b[0m )\n\u001b[0;32m      5\u001b[0m \u001b[0mdropdown\u001b[0m\u001b[1;33m.\u001b[0m\u001b[0mclick\u001b[0m\u001b[1;33m(\u001b[0m\u001b[1;33m)\u001b[0m\u001b[1;33m\u001b[0m\u001b[1;33m\u001b[0m\u001b[0m\n",
      "\u001b[1;32m~\\AppData\\Roaming\\Python\\Python39\\site-packages\\selenium\\webdriver\\support\\wait.py\u001b[0m in \u001b[0;36muntil\u001b[1;34m(self, method, message)\u001b[0m\n\u001b[0;32m     93\u001b[0m             \u001b[1;32mif\u001b[0m \u001b[0mtime\u001b[0m\u001b[1;33m.\u001b[0m\u001b[0mmonotonic\u001b[0m\u001b[1;33m(\u001b[0m\u001b[1;33m)\u001b[0m \u001b[1;33m>\u001b[0m \u001b[0mend_time\u001b[0m\u001b[1;33m:\u001b[0m\u001b[1;33m\u001b[0m\u001b[1;33m\u001b[0m\u001b[0m\n\u001b[0;32m     94\u001b[0m                 \u001b[1;32mbreak\u001b[0m\u001b[1;33m\u001b[0m\u001b[1;33m\u001b[0m\u001b[0m\n\u001b[1;32m---> 95\u001b[1;33m         \u001b[1;32mraise\u001b[0m \u001b[0mTimeoutException\u001b[0m\u001b[1;33m(\u001b[0m\u001b[0mmessage\u001b[0m\u001b[1;33m,\u001b[0m \u001b[0mscreen\u001b[0m\u001b[1;33m,\u001b[0m \u001b[0mstacktrace\u001b[0m\u001b[1;33m)\u001b[0m\u001b[1;33m\u001b[0m\u001b[1;33m\u001b[0m\u001b[0m\n\u001b[0m\u001b[0;32m     96\u001b[0m \u001b[1;33m\u001b[0m\u001b[0m\n\u001b[0;32m     97\u001b[0m     \u001b[1;32mdef\u001b[0m \u001b[0muntil_not\u001b[0m\u001b[1;33m(\u001b[0m\u001b[0mself\u001b[0m\u001b[1;33m,\u001b[0m \u001b[0mmethod\u001b[0m\u001b[1;33m,\u001b[0m \u001b[0mmessage\u001b[0m\u001b[1;33m:\u001b[0m \u001b[0mstr\u001b[0m \u001b[1;33m=\u001b[0m \u001b[1;34m\"\"\u001b[0m\u001b[1;33m)\u001b[0m\u001b[1;33m:\u001b[0m\u001b[1;33m\u001b[0m\u001b[1;33m\u001b[0m\u001b[0m\n",
      "\u001b[1;31mTimeoutException\u001b[0m: Message: \n"
     ]
    }
   ],
   "source": [
    "# Click on the dropdown to expand it\n",
    "dropdown = WebDriverWait(driver, 30).until(\n",
    "    EC.element_to_be_clickable((By.ID, \"custom_14660_214_fname_mslt_0_6141-input\"))\n",
    ")\n",
    "dropdown.click()\n",
    "\n",
    "# Wait for the search box to be visible\n",
    "search_box = WebDriverWait(driver, 10).until(\n",
    "    EC.visibility_of_element_located((By.XPATH, \"//input[@id='custom_14660_214_fname_mslt_0_6141-input']\"))\n",
    ")\n",
    "\n",
    "# Input the text \"India\" into the search box\n",
    "search_box.send_keys(\"India\")\n",
    "\n",
    "# Wait for the options to be filtered based on the search text\n",
    "# You may need to wait for a brief moment for the options to be filtered\n",
    "time.sleep(2)  # Adjust the wait time as needed\n",
    "\n",
    "# Locate and click on the desired option\n",
    "dropdown_list = WebDriverWait(driver, 30).until(\n",
    "    EC.visibility_of_element_located((By.ID, \"custom_14660_214_fname_mslt_0_6141-input_listbox\"))\n",
    ")\n",
    "\n",
    "# Locate the option for \"India\" within the dropdown list\n",
    "option_india = dropdown_list.find_element(By.XPATH, \"//div[contains(@id, 'ui-id-') and contains(text(), 'India')]\")\n",
    "\n",
    "# Click on the option for \"India\"\n",
    "option_india.click()"
   ]
  },
  {
   "cell_type": "code",
   "execution_count": null,
   "metadata": {
    "metadata": {}
   },
   "outputs": [],
   "source": []
  },
  {
   "cell_type": "code",
   "execution_count": 69,
   "metadata": {},
   "outputs": [
    {
     "name": "stdout",
     "output_type": "stream",
     "text": [
      "Column Names: ['link']\n"
     ]
    }
   ],
   "source": [
    "import pandas as pd\n",
    "\n",
    "# Read the CSV file\n",
    "df = pd.read_csv(\"LinksIBM.csv\")\n",
    "\n",
    "# Get the column names\n",
    "column_names = df.columns.tolist()\n",
    "\n",
    "# Print the column names\n",
    "print(\"Column Names:\", column_names)"
   ]
  },
  {
   "cell_type": "code",
   "execution_count": 19,
   "metadata": {},
   "outputs": [],
   "source": [
    "wait = WebDriverWait(driver, 20)\n",
    "\n",
    "start_button = WebDriverWait(driver, 30).until(\n",
    "    EC.element_to_be_clickable((By.XPATH, \"//span[@class='ladda-label' and text()=\\\"Let's get started\\\"]\"))\n",
    ")\n",
    "\n",
    "# Click on the \"Let's get started\" button\n",
    "start_button.click()"
   ]
  },
  {
   "cell_type": "code",
   "execution_count": 5,
   "metadata": {
    "metadata": {}
   },
   "outputs": [],
   "source": [
    "import pandas as pd\n",
    "\n",
    "df = pd.read_csv(\"LinksIBM.csv\")\n",
    "\n",
    "# Get the first link from the DataFrame\n",
    "first_link = df['link'].iloc[0]\n",
    "\n",
    "# Navigate to the first link\n",
    "driver.get(first_link)"
   ]
  },
  {
   "cell_type": "code",
   "execution_count": 6,
   "metadata": {
    "metadata": {}
   },
   "outputs": [],
   "source": [
    "apply_span = WebDriverWait(driver, 30).until(\n",
    "        EC.element_to_be_clickable((By.XPATH, \"//span[@class='ladda-label' and contains(text(), 'Apply to job(s)')]\"))\n",
    "    )\n",
    "apply_span.click() "
   ]
  },
  {
   "cell_type": "code",
   "execution_count": 7,
   "metadata": {
    "metadata": {}
   },
   "outputs": [],
   "source": [
    "wait = WebDriverWait(driver, 20)\n",
    "\n",
    "start_button = WebDriverWait(driver, 30).until(\n",
    "    EC.element_to_be_clickable((By.XPATH, \"//span[@class='ladda-label' and text()=\\\"Let's get started\\\"]\"))\n",
    ")\n",
    "\n",
    "# Click on the \"Let's get started\" button\n",
    "start_button.click()"
   ]
  },
  {
   "cell_type": "code",
   "execution_count": 8,
   "metadata": {
    "metadata": {}
   },
   "outputs": [],
   "source": [
    "wait = WebDriverWait(driver, 20)\n",
    "checkbox = WebDriverWait(driver, 30).until(\n",
    "    EC.presence_of_element_located((By.ID, \"checkbox-16445-I agree\"))\n",
    ")\n",
    "\n",
    "# Check if the checkbox is already checked\n",
    "if not checkbox.is_selected():\n",
    "    # If not checked, click on it to tick the checkbox\n",
    "    checkbox.click()"
   ]
  },
  {
   "cell_type": "code",
   "execution_count": 9,
   "metadata": {
    "metadata": {}
   },
   "outputs": [],
   "source": [
    "wait = WebDriverWait(driver, 20)\n",
    "save_and_continue_button = WebDriverWait(driver, 30).until(\n",
    "    EC.element_to_be_clickable((By.XPATH, \"//span[contains(@class, 'ladda-label') and text()='Save and continue']\"))\n",
    ")\n",
    "\n",
    "# Click on the button\n",
    "save_and_continue_button.click()"
   ]
  },
  {
   "cell_type": "code",
   "execution_count": 10,
   "metadata": {
    "metadata": {}
   },
   "outputs": [],
   "source": [
    "wait = WebDriverWait(driver, 20)\n",
    "save_and_continue_button = WebDriverWait(driver, 30).until(\n",
    "    EC.element_to_be_clickable((By.XPATH, \"//span[contains(@class, 'ladda-label') and text()='Save and continue']\"))\n",
    ")\n",
    "\n",
    "# Click on the button\n",
    "save_and_continue_button.click()"
   ]
  },
  {
   "cell_type": "code",
   "execution_count": 13,
   "metadata": {},
   "outputs": [
    {
     "data": {
      "text/plain": [
       "['265D10068DF3A2457679DECD44864B15']"
      ]
     },
     "execution_count": 13,
     "metadata": {},
     "output_type": "execute_result"
    }
   ],
   "source": [
    "driver.window_handles"
   ]
  },
  {
   "cell_type": "code",
   "execution_count": 11,
   "metadata": {
    "metadata": {}
   },
   "outputs": [
    {
     "name": "stdout",
     "output_type": "stream",
     "text": [
      "['AE392E540E02FB52DBE8B7D82107B31A']\n"
     ]
    }
   ],
   "source": [
    "\n",
    "wait = WebDriverWait(driver, 20)\n",
    "handles=driver.window_handles\n",
    "\n",
    "print(handles)\n",
    "\n",
    "add_resume_link = WebDriverWait(driver, 30).until(\n",
    "    EC.element_to_be_clickable((By.XPATH, \"//a[contains(text(), 'Add résumé/CV')]\"))\n",
    ")\n",
    "add_resume_link.click()\n"
   ]
  },
  {
   "cell_type": "code",
   "execution_count": null,
   "metadata": {},
   "outputs": [],
   "source": []
  },
  {
   "cell_type": "code",
   "execution_count": 12,
   "metadata": {
    "metadata": {}
   },
   "outputs": [
    {
     "name": "stdout",
     "output_type": "stream",
     "text": [
      "after switch\n"
     ]
    }
   ],
   "source": [
    "\n",
    "# Switch to the iframe\n",
    "iframe = WebDriverWait(driver, 30).until(\n",
    "    EC.presence_of_element_located((By.XPATH, '/html/body/div[5]/div[2]/iframe'))\n",
    ")\n",
    "driver.switch_to.frame(iframe)\n",
    "\n",
    "print(\"after switch\")\n",
    "\n",
    "# Now you can interact with elements inside the iframe\n",
    "saved_resumes_button = WebDriverWait(driver, 30).until(\n",
    "    EC.element_to_be_clickable((By.XPATH, \"//span[@class='button-label' and text()='Saved résumés/CVs']\"))\n",
    ")\n",
    "\n",
    "# Click on the button\n",
    "saved_resumes_button.click()"
   ]
  },
  {
   "cell_type": "code",
   "execution_count": 13,
   "metadata": {
    "metadata": {}
   },
   "outputs": [],
   "source": [
    "wait = WebDriverWait(driver, 20)\n",
    "radio_button = WebDriverWait(driver, 30).until(\n",
    "    EC.element_to_be_clickable((By.XPATH, \"//label[contains(@class, 'ng-binding') and text()='CV_Sanket_Nawale_M.pdf']\"))\n",
    ")\n",
    "\n",
    "# Click on the radio button to select the option\n",
    "radio_button.click()"
   ]
  },
  {
   "cell_type": "code",
   "execution_count": 14,
   "metadata": {
    "metadata": {}
   },
   "outputs": [],
   "source": [
    "wait = WebDriverWait(driver, 20)\n",
    "add_file_button = WebDriverWait(driver, 30).until(\n",
    "    EC.element_to_be_clickable((By.XPATH, \"//span[@class='button-label' and text()='Add file']\"))\n",
    ")\n",
    "\n",
    "# Click on the \"Add file\" button\n",
    "add_file_button.click()\n"
   ]
  },
  {
   "cell_type": "code",
   "execution_count": 16,
   "metadata": {
    "metadata": {}
   },
   "outputs": [],
   "source": [
    "wait = WebDriverWait(driver, 20)\n",
    "driver.switch_to.window(main_window)\n",
    "\n",
    "# Wait for the \"Save and continue\" button to be clickable\n",
    "save_and_continue_button = WebDriverWait(driver, 30).until(\n",
    "    EC.element_to_be_clickable((By.XPATH, \"//span[@class='ladda-label' and text()='Save and continue']\"))\n",
    ")\n",
    "\n",
    "# Click on the \"Save and continue\" button\n",
    "save_and_continue_button.click()"
   ]
  },
  {
   "cell_type": "code",
   "execution_count": 17,
   "metadata": {
    "metadata": {}
   },
   "outputs": [],
   "source": [
    "wait = WebDriverWait(driver, 20)\n",
    "send_application_button = WebDriverWait(driver, 30).until(\n",
    "    EC.element_to_be_clickable((By.XPATH, \"//span[@class='ladda-label' and text()='Send my application']\"))\n",
    ")\n",
    "\n",
    "# Click on the \"Send my application\" button\n",
    "send_application_button.click()"
   ]
  }
 ],
 "metadata": {
  "kernelspec": {
   "display_name": "base",
   "language": "python",
   "name": "python3"
  },
  "language_info": {
   "codemirror_mode": {
    "name": "ipython",
    "version": 3
   },
   "file_extension": ".py",
   "mimetype": "text/x-python",
   "name": "python",
   "nbconvert_exporter": "python",
   "pygments_lexer": "ipython3",
   "version": "3.9.13"
  }
 },
 "nbformat": 4,
 "nbformat_minor": 2
}
