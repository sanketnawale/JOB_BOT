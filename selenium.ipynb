{
 "cells": [
  {
   "cell_type": "code",
   "execution_count": 13,
   "metadata": {
    "metadata": {}
   },
   "outputs": [
    {
     "name": "stderr",
     "output_type": "stream",
     "text": [
      "C:\\Users\\SanketNaw\\AppData\\Local\\Temp\\ipykernel_17804\\3143280038.py:14: DeprecationWarning: executable_path has been deprecated, please pass in a Service object\n",
      "  driver = webdriver.Chrome(PATH)\n"
     ]
    }
   ],
   "source": [
    "from selenium import webdriver\n",
    "from selenium.webdriver.common.keys import Keys\n",
    "import time\n",
    "from selenium.common.exceptions import NoSuchWindowException\n",
    "from selenium.webdriver.common.by import By\n",
    "from selenium.webdriver.support.ui import WebDriverWait\n",
    "from selenium.webdriver.support import expected_conditions as EC\n",
    "from selenium.common.exceptions import TimeoutException\n",
    "\n",
    "\n",
    "\n",
    "PATH = \"C:\\Program Files (x86)\\chromedriver.exe\"\n",
    "\n",
    "driver = webdriver.Chrome(PATH)\n",
    "\n",
    "driver.get(\"https://krb-sjobs.brassring.com/tgnewui/search/home/home?partnerid=26059&siteid=5016#home\")\n",
    "# Wait for the \"Accept All\" button to be clickable\n",
    "\n",
    "button = WebDriverWait(driver, 10).until(\n",
    "        EC.element_to_be_clickable((By.XPATH, \"//span[text()='Sign in with LinkedIn']\"))\n",
    "    )\n",
    "button.click()\n",
    "\n",
    "#window_handles = driver.window_handles\n",
    "\n",
    "\n",
    "WebDriverWait(driver, 30).until(EC.number_of_windows_to_be(2))\n",
    "\n",
    "# my Window Handle\n",
    "main_window = driver.window_handles[0]\n",
    "# Switch to popup window\n",
    "popup_window = driver.window_handles[1]\n",
    "driver.switch_to.window(popup_window)\n",
    "\n",
    "# Now in the popup window\n",
    "accept_button = WebDriverWait(driver, 30).until(\n",
    "    EC.element_to_be_clickable((By.XPATH, \"//button[contains(text(), 'Accept')]\"))\n",
    ")\n",
    "accept_button.click()\n",
    "\n",
    "username_input = WebDriverWait(driver, 30).until(\n",
    "        EC.visibility_of_element_located((By.ID, \"username\"))\n",
    "    )\n",
    "\n",
    "    # Input email address\n",
    "username_input.send_keys(\"sanketnawale89@outlook.com\")\n",
    "\n",
    "password_input = WebDriverWait(driver, 30).until(\n",
    "    EC.visibility_of_element_located((By.ID, \"password\"))\n",
    ")\n",
    "\n",
    "# Input password\n",
    "password_input.send_keys(\"Fantacy@321\")\n",
    "\n",
    "sign_in_button = WebDriverWait(driver, 30).until(\n",
    "    EC.element_to_be_clickable((By.XPATH, \"//button[contains(text(), 'Sign in')]\"))\n",
    ")\n",
    "\n",
    "\n",
    "sign_in_button.click()\n",
    "\n",
    "allow_button = WebDriverWait(driver, 30).until(\n",
    "    EC.element_to_be_clickable((By.ID, \"oauth__auth-form__submit-btn\"))\n",
    ")\n",
    "\n",
    "allow_button.click()\n",
    "\n",
    "driver.switch_to.window(main_window)  # Switch back to the main \n",
    "\n",
    "wait = WebDriverWait(driver, 20)\n",
    "time.sleep(20)\n",
    "job_search_link_2 = WebDriverWait(driver, 30).until(\n",
    "    EC.element_to_be_clickable((By.XPATH, \"//span[@class='UnderLineLink ng-binding' and text()='Job search']\"))\n",
    ")\n",
    "\n",
    "job_search_link_2.click()\n",
    "\n",
    "job_search_link_2 = WebDriverWait(driver, 30).until(\n",
    "    EC.element_to_be_clickable((By.XPATH, \"//span[@class='UnderLineLink ng-binding' and text()='Job search']\"))\n",
    ")\n",
    "\n",
    "job_search_link_2.click()\n",
    "\n",
    "\n"
   ]
  },
  {
   "cell_type": "code",
   "execution_count": 68,
   "metadata": {
    "metadata": {}
   },
   "outputs": [],
   "source": [
    "job_search_link_2 = WebDriverWait(driver, 30).until(\n",
    "    EC.element_to_be_clickable((By.XPATH, \"//span[@class='UnderLineLink ng-binding' and text()='Job search']\"))\n",
    ")\n",
    "\n",
    "job_search_link_2.click()"
   ]
  },
  {
   "cell_type": "code",
   "execution_count": 67,
   "metadata": {
    "metadata": {}
   },
   "outputs": [
    {
     "ename": "KeyboardInterrupt",
     "evalue": "",
     "output_type": "error",
     "traceback": [
      "\u001b[1;31m---------------------------------------------------------------------------\u001b[0m",
      "\u001b[1;31mKeyboardInterrupt\u001b[0m                         Traceback (most recent call last)",
      "\u001b[1;32m~\\AppData\\Local\\Temp\\ipykernel_5444\\3958596872.py\u001b[0m in \u001b[0;36m<module>\u001b[1;34m\u001b[0m\n\u001b[0;32m      1\u001b[0m \u001b[1;31m#########MY navigation ############\u001b[0m\u001b[1;33m\u001b[0m\u001b[1;33m\u001b[0m\u001b[0m\n\u001b[1;32m----> 2\u001b[1;33m search_button = WebDriverWait(driver, 30).until(\n\u001b[0m\u001b[0;32m      3\u001b[0m         \u001b[0mEC\u001b[0m\u001b[1;33m.\u001b[0m\u001b[0melement_to_be_clickable\u001b[0m\u001b[1;33m(\u001b[0m\u001b[1;33m(\u001b[0m\u001b[0mBy\u001b[0m\u001b[1;33m.\u001b[0m\u001b[0mXPATH\u001b[0m\u001b[1;33m,\u001b[0m \u001b[1;34m\"//span[@class='ladda-label' and contains(text(), 'Search')]\"\u001b[0m\u001b[1;33m)\u001b[0m\u001b[1;33m)\u001b[0m\u001b[1;33m\u001b[0m\u001b[1;33m\u001b[0m\u001b[0m\n\u001b[0;32m      4\u001b[0m     )\n\u001b[0;32m      5\u001b[0m \u001b[0msearch_button\u001b[0m\u001b[1;33m.\u001b[0m\u001b[0mclick\u001b[0m\u001b[1;33m(\u001b[0m\u001b[1;33m)\u001b[0m\u001b[1;33m\u001b[0m\u001b[1;33m\u001b[0m\u001b[0m\n",
      "\u001b[1;32m~\\AppData\\Roaming\\Python\\Python39\\site-packages\\selenium\\webdriver\\support\\wait.py\u001b[0m in \u001b[0;36muntil\u001b[1;34m(self, method, message)\u001b[0m\n\u001b[0;32m     90\u001b[0m                 \u001b[0mscreen\u001b[0m \u001b[1;33m=\u001b[0m \u001b[0mgetattr\u001b[0m\u001b[1;33m(\u001b[0m\u001b[0mexc\u001b[0m\u001b[1;33m,\u001b[0m \u001b[1;34m\"screen\"\u001b[0m\u001b[1;33m,\u001b[0m \u001b[1;32mNone\u001b[0m\u001b[1;33m)\u001b[0m\u001b[1;33m\u001b[0m\u001b[1;33m\u001b[0m\u001b[0m\n\u001b[0;32m     91\u001b[0m                 \u001b[0mstacktrace\u001b[0m \u001b[1;33m=\u001b[0m \u001b[0mgetattr\u001b[0m\u001b[1;33m(\u001b[0m\u001b[0mexc\u001b[0m\u001b[1;33m,\u001b[0m \u001b[1;34m\"stacktrace\"\u001b[0m\u001b[1;33m,\u001b[0m \u001b[1;32mNone\u001b[0m\u001b[1;33m)\u001b[0m\u001b[1;33m\u001b[0m\u001b[1;33m\u001b[0m\u001b[0m\n\u001b[1;32m---> 92\u001b[1;33m             \u001b[0mtime\u001b[0m\u001b[1;33m.\u001b[0m\u001b[0msleep\u001b[0m\u001b[1;33m(\u001b[0m\u001b[0mself\u001b[0m\u001b[1;33m.\u001b[0m\u001b[0m_poll\u001b[0m\u001b[1;33m)\u001b[0m\u001b[1;33m\u001b[0m\u001b[1;33m\u001b[0m\u001b[0m\n\u001b[0m\u001b[0;32m     93\u001b[0m             \u001b[1;32mif\u001b[0m \u001b[0mtime\u001b[0m\u001b[1;33m.\u001b[0m\u001b[0mmonotonic\u001b[0m\u001b[1;33m(\u001b[0m\u001b[1;33m)\u001b[0m \u001b[1;33m>\u001b[0m \u001b[0mend_time\u001b[0m\u001b[1;33m:\u001b[0m\u001b[1;33m\u001b[0m\u001b[1;33m\u001b[0m\u001b[0m\n\u001b[0;32m     94\u001b[0m                 \u001b[1;32mbreak\u001b[0m\u001b[1;33m\u001b[0m\u001b[1;33m\u001b[0m\u001b[0m\n",
      "\u001b[1;31mKeyboardInterrupt\u001b[0m: "
     ]
    }
   ],
   "source": [
    "#########MY navigation ############\n",
    "search_button = WebDriverWait(driver, 30).until(\n",
    "        EC.element_to_be_clickable((By.XPATH, \"//span[@class='ladda-label' and contains(text(), 'Search')]\"))\n",
    "    )\n",
    "search_button.click()"
   ]
  },
  {
   "cell_type": "code",
   "execution_count": 54,
   "metadata": {},
   "outputs": [
    {
     "name": "stdout",
     "output_type": "stream",
     "text": [
      "Next button not found. Exiting loop.\n"
     ]
    }
   ],
   "source": [
    "Must = []\n",
    "\n",
    "while True:\n",
    "    links = driver.find_elements(By.XPATH, \"//a[@class='jobProperty jobtitle']\")\n",
    "    for link in links:\n",
    "        l = link.get_attribute(\"href\")\n",
    "        Must.append(l)\n",
    "    \n",
    "    try:\n",
    "        button = WebDriverWait(driver, 10).until(\n",
    "            EC.element_to_be_clickable((By.XPATH, \"//*[@id='showMoreJobs']\"))\n",
    "        )\n",
    "        button.click()\n",
    "    except:\n",
    "         print(\"Next button not found. Exiting loop.\")\n",
    "         break"
   ]
  },
  {
   "cell_type": "code",
   "execution_count": 57,
   "metadata": {},
   "outputs": [
    {
     "data": {
      "text/plain": [
       "1262"
      ]
     },
     "execution_count": 57,
     "metadata": {},
     "output_type": "execute_result"
    }
   ],
   "source": [
    "len(set(Must))"
   ]
  },
  {
   "cell_type": "code",
   "execution_count": 58,
   "metadata": {},
   "outputs": [],
   "source": [
    "import pandas as pd\n",
    "\n",
    "df  = pd.DataFrame(columns = [\"link\"])\n",
    "df[\"link\"] = list(set(Must))"
   ]
  },
  {
   "cell_type": "code",
   "execution_count": 59,
   "metadata": {},
   "outputs": [],
   "source": [
    "df.to_csv(\"LinksIBM.csv\", index = False)"
   ]
  },
  {
   "cell_type": "code",
   "execution_count": null,
   "metadata": {},
   "outputs": [],
   "source": []
  },
  {
   "cell_type": "code",
   "execution_count": null,
   "metadata": {},
   "outputs": [],
   "source": []
  },
  {
   "cell_type": "code",
   "execution_count": 17,
   "metadata": {},
   "outputs": [],
   "source": [
    "\n",
    "job_link = WebDriverWait(driver, 30).until(\n",
    "    EC.element_to_be_clickable((By.ID, \"Job_2\"))\n",
    ")\n",
    "\n",
    "# Click on the job link\n",
    "job_link.click()"
   ]
  },
  {
   "cell_type": "code",
   "execution_count": 40,
   "metadata": {},
   "outputs": [],
   "source": [
    "driver.get(\"https://krb-sjobs.brassring.com/TGnewUI/Search/home/HomeWithPreLoad?partnerid=26059&siteid=5016&PageType=JobDetails&jobid=737513\")"
   ]
  },
  {
   "cell_type": "code",
   "execution_count": 5,
   "metadata": {
    "metadata": {}
   },
   "outputs": [],
   "source": [
    "def scroll_down(driver):\n",
    "    SCROLL_PAUSE_TIME = 0.5\n",
    "     # Get scroll height\n",
    "    last_height = driver.execute_script(\"return document.body.scrollHeight\")\n",
    "       \n",
    "    while True:\n",
    "        # Scroll down to bottom\n",
    "        driver.execute_script(\"window.scrollTo(0, document.body.scrollHeight);\")\n",
    "\n",
    "        # Wait to load page\n",
    "        time.sleep(SCROLL_PAUSE_TIME)\n",
    "\n",
    "        # Calculate new scroll height and compare with last scroll height\n",
    "        new_height = driver.execute_script(\"return document.body.scrollHeight\")\n",
    "        if new_height == last_height:\n",
    "            break\n",
    "        last_height = new_height"
   ]
  },
  {
   "cell_type": "code",
   "execution_count": null,
   "metadata": {
    "metadata": {}
   },
   "outputs": [],
   "source": [
    " applied_message = driver.find_element(By.XPATH, \"//span[@id='appLbl' and contains(text(), 'You have already applied for this job')]\")\n",
    "print"
   ]
  },
  {
   "cell_type": "code",
   "execution_count": 14,
   "metadata": {
    "metadata": {}
   },
   "outputs": [
    {
     "name": "stdout",
     "output_type": "stream",
     "text": [
      "You have already applied for this job. Skipping to the next link.\n",
      "You have already applied for this job. Skipping to the next link.\n",
      "You have already applied for this job. Skipping to the next link.\n"
     ]
    },
    {
     "ename": "KeyboardInterrupt",
     "evalue": "",
     "output_type": "error",
     "traceback": [
      "\u001b[1;31m---------------------------------------------------------------------------\u001b[0m",
      "\u001b[1;31mNoSuchElementException\u001b[0m                    Traceback (most recent call last)",
      "\u001b[1;32m~\\AppData\\Local\\Temp\\ipykernel_17804\\3923223857.py\u001b[0m in \u001b[0;36m<module>\u001b[1;34m\u001b[0m\n\u001b[0;32m     12\u001b[0m     \u001b[1;32mtry\u001b[0m\u001b[1;33m:\u001b[0m\u001b[1;33m\u001b[0m\u001b[1;33m\u001b[0m\u001b[0m\n\u001b[1;32m---> 13\u001b[1;33m         \u001b[0mapplied_message\u001b[0m \u001b[1;33m=\u001b[0m \u001b[0mdriver\u001b[0m\u001b[1;33m.\u001b[0m\u001b[0mfind_element\u001b[0m\u001b[1;33m(\u001b[0m\u001b[0mBy\u001b[0m\u001b[1;33m.\u001b[0m\u001b[0mXPATH\u001b[0m\u001b[1;33m,\u001b[0m \u001b[1;34m\"//span[@id='appLbl' and contains(text(), 'You have already applied for this job')]\"\u001b[0m\u001b[1;33m)\u001b[0m\u001b[1;33m\u001b[0m\u001b[1;33m\u001b[0m\u001b[0m\n\u001b[0m\u001b[0;32m     14\u001b[0m         \u001b[0mprint\u001b[0m\u001b[1;33m(\u001b[0m\u001b[1;34m\"You have already applied for this job. Skipping to the next link.\"\u001b[0m\u001b[1;33m)\u001b[0m\u001b[1;33m\u001b[0m\u001b[1;33m\u001b[0m\u001b[0m\n",
      "\u001b[1;32m~\\AppData\\Roaming\\Python\\Python39\\site-packages\\selenium\\webdriver\\remote\\webdriver.py\u001b[0m in \u001b[0;36mfind_element\u001b[1;34m(self, by, value)\u001b[0m\n\u001b[0;32m    829\u001b[0m \u001b[1;33m\u001b[0m\u001b[0m\n\u001b[1;32m--> 830\u001b[1;33m         \u001b[1;32mreturn\u001b[0m \u001b[0mself\u001b[0m\u001b[1;33m.\u001b[0m\u001b[0mexecute\u001b[0m\u001b[1;33m(\u001b[0m\u001b[0mCommand\u001b[0m\u001b[1;33m.\u001b[0m\u001b[0mFIND_ELEMENT\u001b[0m\u001b[1;33m,\u001b[0m \u001b[1;33m{\u001b[0m\u001b[1;34m\"using\"\u001b[0m\u001b[1;33m:\u001b[0m \u001b[0mby\u001b[0m\u001b[1;33m,\u001b[0m \u001b[1;34m\"value\"\u001b[0m\u001b[1;33m:\u001b[0m \u001b[0mvalue\u001b[0m\u001b[1;33m}\u001b[0m\u001b[1;33m)\u001b[0m\u001b[1;33m[\u001b[0m\u001b[1;34m\"value\"\u001b[0m\u001b[1;33m]\u001b[0m\u001b[1;33m\u001b[0m\u001b[1;33m\u001b[0m\u001b[0m\n\u001b[0m\u001b[0;32m    831\u001b[0m \u001b[1;33m\u001b[0m\u001b[0m\n",
      "\u001b[1;32m~\\AppData\\Roaming\\Python\\Python39\\site-packages\\selenium\\webdriver\\remote\\webdriver.py\u001b[0m in \u001b[0;36mexecute\u001b[1;34m(self, driver_command, params)\u001b[0m\n\u001b[0;32m    439\u001b[0m         \u001b[1;32mif\u001b[0m \u001b[0mresponse\u001b[0m\u001b[1;33m:\u001b[0m\u001b[1;33m\u001b[0m\u001b[1;33m\u001b[0m\u001b[0m\n\u001b[1;32m--> 440\u001b[1;33m             \u001b[0mself\u001b[0m\u001b[1;33m.\u001b[0m\u001b[0merror_handler\u001b[0m\u001b[1;33m.\u001b[0m\u001b[0mcheck_response\u001b[0m\u001b[1;33m(\u001b[0m\u001b[0mresponse\u001b[0m\u001b[1;33m)\u001b[0m\u001b[1;33m\u001b[0m\u001b[1;33m\u001b[0m\u001b[0m\n\u001b[0m\u001b[0;32m    441\u001b[0m             \u001b[0mresponse\u001b[0m\u001b[1;33m[\u001b[0m\u001b[1;34m\"value\"\u001b[0m\u001b[1;33m]\u001b[0m \u001b[1;33m=\u001b[0m \u001b[0mself\u001b[0m\u001b[1;33m.\u001b[0m\u001b[0m_unwrap_value\u001b[0m\u001b[1;33m(\u001b[0m\u001b[0mresponse\u001b[0m\u001b[1;33m.\u001b[0m\u001b[0mget\u001b[0m\u001b[1;33m(\u001b[0m\u001b[1;34m\"value\"\u001b[0m\u001b[1;33m,\u001b[0m \u001b[1;32mNone\u001b[0m\u001b[1;33m)\u001b[0m\u001b[1;33m)\u001b[0m\u001b[1;33m\u001b[0m\u001b[1;33m\u001b[0m\u001b[0m\n",
      "\u001b[1;32m~\\AppData\\Roaming\\Python\\Python39\\site-packages\\selenium\\webdriver\\remote\\errorhandler.py\u001b[0m in \u001b[0;36mcheck_response\u001b[1;34m(self, response)\u001b[0m\n\u001b[0;32m    244\u001b[0m             \u001b[1;32mraise\u001b[0m \u001b[0mexception_class\u001b[0m\u001b[1;33m(\u001b[0m\u001b[0mmessage\u001b[0m\u001b[1;33m,\u001b[0m \u001b[0mscreen\u001b[0m\u001b[1;33m,\u001b[0m \u001b[0mstacktrace\u001b[0m\u001b[1;33m,\u001b[0m \u001b[0malert_text\u001b[0m\u001b[1;33m)\u001b[0m  \u001b[1;31m# type: ignore[call-arg]  # mypy is not smart enough here\u001b[0m\u001b[1;33m\u001b[0m\u001b[1;33m\u001b[0m\u001b[0m\n\u001b[1;32m--> 245\u001b[1;33m         \u001b[1;32mraise\u001b[0m \u001b[0mexception_class\u001b[0m\u001b[1;33m(\u001b[0m\u001b[0mmessage\u001b[0m\u001b[1;33m,\u001b[0m \u001b[0mscreen\u001b[0m\u001b[1;33m,\u001b[0m \u001b[0mstacktrace\u001b[0m\u001b[1;33m)\u001b[0m\u001b[1;33m\u001b[0m\u001b[1;33m\u001b[0m\u001b[0m\n\u001b[0m",
      "\u001b[1;31mNoSuchElementException\u001b[0m: Message: no such element: Unable to locate element: {\"method\":\"xpath\",\"selector\":\"//span[@id='appLbl' and contains(text(), 'You have already applied for this job')]\"}\n  (Session info: chrome=124.0.6367.202)\nStacktrace:\n\tGetHandleVerifier [0x00007FF7D8041562+60802]\n\t(No symbol) [0x00007FF7D7FBAC62]\n\t(No symbol) [0x00007FF7D7E77CE4]\n\t(No symbol) [0x00007FF7D7EC6D4D]\n\t(No symbol) [0x00007FF7D7EC6E1C]\n\t(No symbol) [0x00007FF7D7F0CE37]\n\t(No symbol) [0x00007FF7D7EEABBF]\n\t(No symbol) [0x00007FF7D7F0A224]\n\t(No symbol) [0x00007FF7D7EEA923]\n\t(No symbol) [0x00007FF7D7EB8FEC]\n\t(No symbol) [0x00007FF7D7EB9C21]\n\tGetHandleVerifier [0x00007FF7D83441FD+3217949]\n\tGetHandleVerifier [0x00007FF7D8386197+3488183]\n\tGetHandleVerifier [0x00007FF7D837F11F+3459391]\n\tGetHandleVerifier [0x00007FF7D80FB926+823622]\n\t(No symbol) [0x00007FF7D7FC5FFF]\n\t(No symbol) [0x00007FF7D7FC0F24]\n\t(No symbol) [0x00007FF7D7FC10B2]\n\t(No symbol) [0x00007FF7D7FB1904]\n\tBaseThreadInitThunk [0x00007FF9E3AC257D+29]\n\tRtlUserThreadStart [0x00007FF9E3E0AA48+40]\n",
      "\nDuring handling of the above exception, another exception occurred:\n",
      "\u001b[1;31mKeyboardInterrupt\u001b[0m                         Traceback (most recent call last)",
      "\u001b[1;32m~\\AppData\\Local\\Temp\\ipykernel_17804\\3923223857.py\u001b[0m in \u001b[0;36m<module>\u001b[1;34m\u001b[0m\n\u001b[0;32m     59\u001b[0m             )\n\u001b[0;32m     60\u001b[0m         \u001b[0msave_and_continue_button\u001b[0m\u001b[1;33m.\u001b[0m\u001b[0mclick\u001b[0m\u001b[1;33m(\u001b[0m\u001b[1;33m)\u001b[0m\u001b[1;33m\u001b[0m\u001b[1;33m\u001b[0m\u001b[0m\n\u001b[1;32m---> 61\u001b[1;33m         \u001b[0mtime\u001b[0m\u001b[1;33m.\u001b[0m\u001b[0msleep\u001b[0m\u001b[1;33m(\u001b[0m\u001b[1;36m20\u001b[0m\u001b[1;33m)\u001b[0m\u001b[1;33m\u001b[0m\u001b[1;33m\u001b[0m\u001b[0m\n\u001b[0m\u001b[0;32m     62\u001b[0m \u001b[1;33m\u001b[0m\u001b[0m\n\u001b[0;32m     63\u001b[0m         \u001b[1;32mtry\u001b[0m\u001b[1;33m:\u001b[0m\u001b[1;33m\u001b[0m\u001b[1;33m\u001b[0m\u001b[0m\n",
      "\u001b[1;31mKeyboardInterrupt\u001b[0m: "
     ]
    }
   ],
   "source": [
    "import pandas as pd\n",
    "import time\n",
    "\n",
    "df = pd.read_csv(\"LinksIBM.csv\")\n",
    "\n",
    "# Iterate over each link in the DataFrame\n",
    "for index, row in df.iterrows():\n",
    "    link = row['link']  # Assuming the column name containing links is 'Link'\n",
    "    \n",
    "    # Navigate to the link\n",
    "    driver.get(link)\n",
    "    try:\n",
    "        applied_message = driver.find_element(By.XPATH, \"//span[@id='appLbl' and contains(text(), 'You have already applied for this job')]\")\n",
    "        print(\"You have already applied for this job. Skipping to the next link.\")\n",
    "        continue  # Skip this link and move to the next one\n",
    "    except :\n",
    "        \n",
    "\n",
    "        \n",
    "        scroll_down(driver)\n",
    "\n",
    "        apply_span = WebDriverWait(driver, 30).until(\n",
    "            EC.element_to_be_clickable((By.XPATH, \"//span[@class='ladda-label' and contains(text(), 'Apply to job(s)')]\"))\n",
    "            )\n",
    "        apply_span.click()\n",
    "\n",
    "        time.sleep(20)\n",
    "\n",
    "            \n",
    "        scroll_down(driver)\n",
    "        start_button = WebDriverWait(driver, 30).until(\n",
    "            EC.element_to_be_clickable((By.XPATH, \"//span[@class='ladda-label' and text()=\\\"Let's get started\\\"]\"))\n",
    "            )\n",
    "        start_button.click()\n",
    "        time.sleep(20)\n",
    "            \n",
    "        scroll_down(driver)\n",
    "        checkbox = WebDriverWait(driver, 30).until(\n",
    "            EC.presence_of_element_located((By.ID, \"checkbox-16445-I agree\"))\n",
    "        )\n",
    "\n",
    "            # Check if the checkbox is already checked\n",
    "        if not checkbox.is_selected():\n",
    "                # If not checked, click on it to tick the checkbox\n",
    "                checkbox.click()\n",
    "        time.sleep(20)\n",
    "\n",
    "        scroll_down(driver)\n",
    "        save_and_continue_button = WebDriverWait(driver, 30).until(\n",
    "            EC.element_to_be_clickable((By.XPATH, \"//span[contains(@class, 'ladda-label') and text()='Save and continue']\"))\n",
    "        )\n",
    "        save_and_continue_button.click()\n",
    "        time.sleep(20)\n",
    "\n",
    "            # Ensure the \"Save and continue\" button is clickable again before clicking it\n",
    "        scroll_down(driver)\n",
    "        save_and_continue_button = WebDriverWait(driver, 30).until(\n",
    "                EC.element_to_be_clickable((By.XPATH, \"//span[contains(@class, 'ladda-label') and text()='Save and continue']\"))\n",
    "            )\n",
    "        save_and_continue_button.click()\n",
    "        time.sleep(20)\n",
    "\n",
    "        try:\n",
    "            WebDriverWait(driver, 30).until(EC.presence_of_element_located((By.XPATH, \"//label[contains(@class, 'ListView') and contains(text(), 'Are you eligible/legally entitled to work in the country')]\")))\n",
    "            dropdown_arrow = WebDriverWait(driver, 30).until(\n",
    "            EC.element_to_be_clickable((By.XPATH, \"//span[@class='ui-selectmenu-text' and @id='custom_5091_32_fname_slt_0_5091-button_text']\"))\n",
    "            )\n",
    "            dropdown_arrow.click()\n",
    "            time.sleep(10)  # Wait for the dropdown to appear\n",
    "            option_yes = WebDriverWait(driver, 30).until(\n",
    "            EC.element_to_be_clickable((By.XPATH,  \"//li[@aria-label='Yes']\"))\n",
    "            )\n",
    "            option_yes.click()\n",
    "            time.sleep(20)\n",
    "            print(\"first\")\n",
    "        except:\n",
    "             pass\n",
    "\n",
    "        try:\n",
    "            WebDriverWait(driver, 30).until(EC.element_to_be_clickable((By.ID, \"custom_14660_214_fname_mslt_0_6141-input\")))\n",
    "            dropdown = WebDriverWait(driver, 30).until(\n",
    "            EC.element_to_be_clickable((By.ID, \"custom_14660_214_fname_mslt_0_6141-input\"))\n",
    "            )\n",
    "            dropdown.click()\n",
    "\n",
    "            # Wait for the search box\n",
    "            search_box = WebDriverWait(driver, 10).until(\n",
    "            EC.visibility_of_element_located((By.XPATH, \"//input[@id='custom_14660_214_fname_mslt_0_6141-input']\"))\n",
    "            )\n",
    "\n",
    "            # Input the text \"India\" into the search box\n",
    "            search_box.send_keys(\"India\")\n",
    "            # Locate and click on the desired option\n",
    "            dropdown_list = WebDriverWait(driver, 30).until(\n",
    "            EC.visibility_of_element_located((By.ID, \"custom_14660_214_fname_mslt_0_6141-input_listbox\"))\n",
    "            )\n",
    "\n",
    "            # Locate the option for \"India\" within the dropdown list\n",
    "            option_india = dropdown_list.find_element(By.XPATH, \"//div[contains(@id, 'ui-id-') and contains(text(), 'India')]\")\n",
    "\n",
    "            # Click on the option for \"India\"\n",
    "            option_india.click()\n",
    "            time.sleep(10)\n",
    "            print(\"second\")\n",
    "        except:\n",
    "             pass\n",
    "\n",
    "        try:\n",
    "            WebDriverWait(driver, 30).until(EC.presence_of_element_located((By.XPATH, \"//label[contains(@class, 'ListView') and contains(text(), 'Please state your gender') and contains(text(), 'voluntary')]\")))\n",
    "            dropdown_arrow = WebDriverWait(driver, 30).until(\n",
    "            EC.element_to_be_clickable((By.XPATH, \"//span[@class='ui-selectmenu-text' and @id='custom_15683_214_fname_slt_0_15683-button_text']\"))\n",
    "                )\n",
    "            dropdown_arrow.click()\n",
    "            male_option = WebDriverWait(driver, 10).until(\n",
    "            EC.element_to_be_clickable((By.XPATH, \"//li[@aria-label='Male']\"))\n",
    "            )\n",
    "            male_option.click()\n",
    "                # Wait for the options to be filtered based on the search text\n",
    "            # You may need to wait for a brief moment for the options to be filtered\n",
    "            time.sleep(10)  # Adjust the wait time as needed\n",
    "            print(\"third\")\n",
    "        except:\n",
    "             pass\n",
    "            \n",
    "    \n",
    "        scroll_down(driver)\n",
    "        wait = WebDriverWait(driver, 20)\n",
    "        add_resume_link = WebDriverWait(driver, 30).until(\n",
    "                EC.element_to_be_clickable((By.XPATH, \"//a[contains(text(), 'Add résumé/CV')]\"))\n",
    "            )\n",
    "        add_resume_link.click()\n",
    "        time.sleep(20)\n",
    "\n",
    "            # Switch to the iframe\n",
    "        iframe = WebDriverWait(driver, 30).until(\n",
    "                EC.presence_of_element_located((By.XPATH, '/html/body/div[5]/div[2]/iframe'))\n",
    "            )\n",
    "        driver.switch_to.frame(iframe)\n",
    "        time.sleep(20)\n",
    "\n",
    "        print(\"after switch\")\n",
    "\n",
    "            # Now you can interact with elements inside the iframe\n",
    "        saved_resumes_button = WebDriverWait(driver, 30).until(\n",
    "                EC.element_to_be_clickable((By.XPATH, \"//span[@class='button-label' and text()='Saved résumés/CVs']\"))\n",
    "            )\n",
    "\n",
    "            # Click on the button\n",
    "        saved_resumes_button.click()\n",
    "        time.sleep(20)\n",
    "\n",
    "        wait = WebDriverWait(driver, 20)\n",
    "        radio_button = WebDriverWait(driver, 30).until(\n",
    "                EC.element_to_be_clickable((By.XPATH, \"//label[contains(@class, 'ng-binding') and text()='CV_Sanket_Nawale_M.pdf']\"))\n",
    "            )\n",
    "\n",
    "            # Click on the radio button to select the option\n",
    "        radio_button.click()\n",
    "        time.sleep(20)\n",
    "\n",
    "        wait = WebDriverWait(driver, 20)\n",
    "        add_file_button = WebDriverWait(driver, 30).until(\n",
    "                EC.element_to_be_clickable((By.XPATH, \"//span[@class='button-label' and text()='Add file']\"))\n",
    "            )\n",
    "\n",
    "            # Click on the \"Add file\" button\n",
    "        add_file_button.click()\n",
    "        time.sleep(20)\n",
    "\n",
    "        wait = WebDriverWait(driver, 20)\n",
    "        driver.switch_to.window(main_window)\n",
    "\n",
    "        scroll_down(driver)\n",
    "            # Wait for the \"Save and continue\" button to be clickable\n",
    "        save_and_continue_button = WebDriverWait(driver, 30).until(\n",
    "                EC.element_to_be_clickable((By.XPATH, \"//span[@class='ladda-label' and text()='Save and continue']\"))\n",
    "            )\n",
    "\n",
    "            # Click on the \"Save and continue\" button\n",
    "        save_and_continue_button.click()\n",
    "        time.sleep(20)\n",
    "\n",
    "        scroll_down(driver)\n",
    "        wait = WebDriverWait(driver, 20)\n",
    "        send_application_button = WebDriverWait(driver, 30).until(\n",
    "                EC.element_to_be_clickable((By.XPATH, \"//span[@class='ladda-label' and text()='Send my application']\"))\n",
    "            )\n",
    "\n",
    "            # Click on the \"Send my application\" button\n",
    "        send_application_button.click()\n"
   ]
  },
  {
   "cell_type": "code",
   "execution_count": 117,
   "metadata": {
    "metadata": {}
   },
   "outputs": [],
   "source": [
    "mt = WebDriverWait(driver, 30).until(EC.presence_of_element_located((By.XPATH, \"//label[contains(@class, 'ListView') and contains(text(), 'Please state your gender') and contains(text(), 'voluntary')]\")))\n",
    "dropdown_arrow = WebDriverWait(driver, 30).until(\n",
    "    EC.element_to_be_clickable((By.XPATH, \"//span[@class='ui-selectmenu-text' and @id='custom_15683_214_fname_slt_0_15683-button_text']\"))\n",
    "    )\n",
    "dropdown_arrow.click()\n",
    "male_option = WebDriverWait(driver, 10).until(\n",
    "EC.element_to_be_clickable((By.XPATH, \"//li[@aria-label='Male']\"))\n",
    ")\n",
    "male_option.click()\n",
    "     # Wait for the options to be filtered based on the search text\n",
    "    # You may need to wait for a brief moment for the options to be filtered\n",
    "time.sleep(10)  # Adjust the wait time as needed"
   ]
  },
  {
   "cell_type": "code",
   "execution_count": 87,
   "metadata": {
    "metadata": {}
   },
   "outputs": [
    {
     "ename": "TimeoutException",
     "evalue": "Message: \n",
     "output_type": "error",
     "traceback": [
      "\u001b[1;31m---------------------------------------------------------------------------\u001b[0m",
      "\u001b[1;31mTimeoutException\u001b[0m                          Traceback (most recent call last)",
      "\u001b[1;32m~\\AppData\\Local\\Temp\\ipykernel_5444\\1674987604.py\u001b[0m in \u001b[0;36m<module>\u001b[1;34m\u001b[0m\n\u001b[0;32m      1\u001b[0m \u001b[1;32mif\u001b[0m \u001b[0meligibility_question\u001b[0m\u001b[1;33m:\u001b[0m\u001b[1;33m\u001b[0m\u001b[1;33m\u001b[0m\u001b[0m\n\u001b[0;32m      2\u001b[0m     \u001b[0mtime\u001b[0m\u001b[1;33m.\u001b[0m\u001b[0msleep\u001b[0m\u001b[1;33m(\u001b[0m\u001b[1;36m5\u001b[0m\u001b[1;33m)\u001b[0m\u001b[1;33m\u001b[0m\u001b[1;33m\u001b[0m\u001b[0m\n\u001b[1;32m----> 3\u001b[1;33m     dropdown_window = WebDriverWait(driver, 30).until(\n\u001b[0m\u001b[0;32m      4\u001b[0m         \u001b[0mEC\u001b[0m\u001b[1;33m.\u001b[0m\u001b[0mvisibility_of_element_located\u001b[0m\u001b[1;33m(\u001b[0m\u001b[1;33m(\u001b[0m\u001b[0mBy\u001b[0m\u001b[1;33m.\u001b[0m\u001b[0mXPATH\u001b[0m\u001b[1;33m,\u001b[0m \u001b[1;34m\"//ul[@id='custom_5091_32_fname_slt_0_5091-menu']\"\u001b[0m\u001b[1;33m)\u001b[0m\u001b[1;33m)\u001b[0m\u001b[1;33m\u001b[0m\u001b[1;33m\u001b[0m\u001b[0m\n\u001b[0;32m      5\u001b[0m     )\n",
      "\u001b[1;32m~\\AppData\\Roaming\\Python\\Python39\\site-packages\\selenium\\webdriver\\support\\wait.py\u001b[0m in \u001b[0;36muntil\u001b[1;34m(self, method, message)\u001b[0m\n\u001b[0;32m     93\u001b[0m             \u001b[1;32mif\u001b[0m \u001b[0mtime\u001b[0m\u001b[1;33m.\u001b[0m\u001b[0mmonotonic\u001b[0m\u001b[1;33m(\u001b[0m\u001b[1;33m)\u001b[0m \u001b[1;33m>\u001b[0m \u001b[0mend_time\u001b[0m\u001b[1;33m:\u001b[0m\u001b[1;33m\u001b[0m\u001b[1;33m\u001b[0m\u001b[0m\n\u001b[0;32m     94\u001b[0m                 \u001b[1;32mbreak\u001b[0m\u001b[1;33m\u001b[0m\u001b[1;33m\u001b[0m\u001b[0m\n\u001b[1;32m---> 95\u001b[1;33m         \u001b[1;32mraise\u001b[0m \u001b[0mTimeoutException\u001b[0m\u001b[1;33m(\u001b[0m\u001b[0mmessage\u001b[0m\u001b[1;33m,\u001b[0m \u001b[0mscreen\u001b[0m\u001b[1;33m,\u001b[0m \u001b[0mstacktrace\u001b[0m\u001b[1;33m)\u001b[0m\u001b[1;33m\u001b[0m\u001b[1;33m\u001b[0m\u001b[0m\n\u001b[0m\u001b[0;32m     96\u001b[0m \u001b[1;33m\u001b[0m\u001b[0m\n\u001b[0;32m     97\u001b[0m     \u001b[1;32mdef\u001b[0m \u001b[0muntil_not\u001b[0m\u001b[1;33m(\u001b[0m\u001b[0mself\u001b[0m\u001b[1;33m,\u001b[0m \u001b[0mmethod\u001b[0m\u001b[1;33m,\u001b[0m \u001b[0mmessage\u001b[0m\u001b[1;33m:\u001b[0m \u001b[0mstr\u001b[0m \u001b[1;33m=\u001b[0m \u001b[1;34m\"\"\u001b[0m\u001b[1;33m)\u001b[0m\u001b[1;33m:\u001b[0m\u001b[1;33m\u001b[0m\u001b[1;33m\u001b[0m\u001b[0m\n",
      "\u001b[1;31mTimeoutException\u001b[0m: Message: \n"
     ]
    }
   ],
   "source": [
    "if eligibility_question:\n",
    "    time.sleep(5)\n",
    "    dropdown_window = WebDriverWait(driver, 30).until(\n",
    "        EC.visibility_of_element_located((By.XPATH, \"//ul[@id='custom_5091_32_fname_slt_0_5091-menu']\"))\n",
    "    )\n",
    "    time.sleep(5)\n",
    "    # Locate the \"Yes\" option and click on it\n",
    "    option_yes = WebDriverWait(dropdown_window, 30).until(\n",
    "        EC.element_to_be_clickable((By.XPATH, \"//li[@aria-label='Yes']\"))\n",
    "    )\n",
    "    option_yes.click()\n",
    "else:\n",
    "    # Handle the case where the eligibility question is not present\n",
    "    pass"
   ]
  },
  {
   "cell_type": "code",
   "execution_count": 90,
   "metadata": {
    "metadata": {}
   },
   "outputs": [
    {
     "ename": "KeyboardInterrupt",
     "evalue": "",
     "output_type": "error",
     "traceback": [
      "\u001b[1;31m---------------------------------------------------------------------------\u001b[0m",
      "\u001b[1;31mKeyboardInterrupt\u001b[0m                         Traceback (most recent call last)",
      "\u001b[1;32m~\\AppData\\Local\\Temp\\ipykernel_5444\\3695283724.py\u001b[0m in \u001b[0;36m<module>\u001b[1;34m\u001b[0m\n\u001b[0;32m      3\u001b[0m )\n\u001b[0;32m      4\u001b[0m \u001b[0mtime\u001b[0m\u001b[1;33m.\u001b[0m\u001b[0msleep\u001b[0m\u001b[1;33m(\u001b[0m\u001b[1;36m10\u001b[0m\u001b[1;33m)\u001b[0m\u001b[1;33m\u001b[0m\u001b[1;33m\u001b[0m\u001b[0m\n\u001b[1;32m----> 5\u001b[1;33m dropdown_window = WebDriverWait(driver, 30).until(\n\u001b[0m\u001b[0;32m      6\u001b[0m     \u001b[0mEC\u001b[0m\u001b[1;33m.\u001b[0m\u001b[0mvisibility_of_element_located\u001b[0m\u001b[1;33m(\u001b[0m\u001b[1;33m(\u001b[0m\u001b[0mBy\u001b[0m\u001b[1;33m.\u001b[0m\u001b[0mXPATH\u001b[0m\u001b[1;33m,\u001b[0m \u001b[1;34m\"//ul[@id='custom_5091_32_fname_slt_0_5091-menu']\"\u001b[0m\u001b[1;33m)\u001b[0m\u001b[1;33m)\u001b[0m\u001b[1;33m\u001b[0m\u001b[1;33m\u001b[0m\u001b[0m\n\u001b[0;32m      7\u001b[0m )\n",
      "\u001b[1;32m~\\AppData\\Roaming\\Python\\Python39\\site-packages\\selenium\\webdriver\\support\\wait.py\u001b[0m in \u001b[0;36muntil\u001b[1;34m(self, method, message)\u001b[0m\n\u001b[0;32m     90\u001b[0m                 \u001b[0mscreen\u001b[0m \u001b[1;33m=\u001b[0m \u001b[0mgetattr\u001b[0m\u001b[1;33m(\u001b[0m\u001b[0mexc\u001b[0m\u001b[1;33m,\u001b[0m \u001b[1;34m\"screen\"\u001b[0m\u001b[1;33m,\u001b[0m \u001b[1;32mNone\u001b[0m\u001b[1;33m)\u001b[0m\u001b[1;33m\u001b[0m\u001b[1;33m\u001b[0m\u001b[0m\n\u001b[0;32m     91\u001b[0m                 \u001b[0mstacktrace\u001b[0m \u001b[1;33m=\u001b[0m \u001b[0mgetattr\u001b[0m\u001b[1;33m(\u001b[0m\u001b[0mexc\u001b[0m\u001b[1;33m,\u001b[0m \u001b[1;34m\"stacktrace\"\u001b[0m\u001b[1;33m,\u001b[0m \u001b[1;32mNone\u001b[0m\u001b[1;33m)\u001b[0m\u001b[1;33m\u001b[0m\u001b[1;33m\u001b[0m\u001b[0m\n\u001b[1;32m---> 92\u001b[1;33m             \u001b[0mtime\u001b[0m\u001b[1;33m.\u001b[0m\u001b[0msleep\u001b[0m\u001b[1;33m(\u001b[0m\u001b[0mself\u001b[0m\u001b[1;33m.\u001b[0m\u001b[0m_poll\u001b[0m\u001b[1;33m)\u001b[0m\u001b[1;33m\u001b[0m\u001b[1;33m\u001b[0m\u001b[0m\n\u001b[0m\u001b[0;32m     93\u001b[0m             \u001b[1;32mif\u001b[0m \u001b[0mtime\u001b[0m\u001b[1;33m.\u001b[0m\u001b[0mmonotonic\u001b[0m\u001b[1;33m(\u001b[0m\u001b[1;33m)\u001b[0m \u001b[1;33m>\u001b[0m \u001b[0mend_time\u001b[0m\u001b[1;33m:\u001b[0m\u001b[1;33m\u001b[0m\u001b[1;33m\u001b[0m\u001b[0m\n\u001b[0;32m     94\u001b[0m                 \u001b[1;32mbreak\u001b[0m\u001b[1;33m\u001b[0m\u001b[1;33m\u001b[0m\u001b[0m\n",
      "\u001b[1;31mKeyboardInterrupt\u001b[0m: "
     ]
    }
   ],
   "source": [
    "eligibility_question = WebDriverWait(driver, 30).until(\n",
    "    EC.presence_of_element_located((By.XPATH, \"//label[contains(@class, 'ListView') and contains(text(), 'Are you eligible/legally entitled to work in the country')]\"))\n",
    ")\n",
    "time.sleep(10)\n",
    "dropdown_window = WebDriverWait(driver, 30).until(\n",
    "    EC.visibility_of_element_located((By.XPATH, \"//ul[@id='custom_5091_32_fname_slt_0_5091-menu']\"))\n",
    ")\n",
    "time.sleep(10)\n",
    "# Locate the \"Yes\" option and click on it\n",
    "option_yes = WebDriverWait(dropdown_window, 30).until(\n",
    "    EC.element_to_be_clickable((By.XPATH, \"//li[@aria-label='Yes']\"))\n",
    ")\n",
    "option_yes.click()"
   ]
  },
  {
   "cell_type": "code",
   "execution_count": 94,
   "metadata": {
    "metadata": {}
   },
   "outputs": [
    {
     "ename": "KeyboardInterrupt",
     "evalue": "",
     "output_type": "error",
     "traceback": [
      "\u001b[1;31m---------------------------------------------------------------------------\u001b[0m",
      "\u001b[1;31mKeyboardInterrupt\u001b[0m                         Traceback (most recent call last)",
      "\u001b[1;32m~\\AppData\\Local\\Temp\\ipykernel_5444\\4267309849.py\u001b[0m in \u001b[0;36m<module>\u001b[1;34m\u001b[0m\n\u001b[0;32m     11\u001b[0m )\n\u001b[0;32m     12\u001b[0m \u001b[0moption_yes\u001b[0m\u001b[1;33m.\u001b[0m\u001b[0mclick\u001b[0m\u001b[1;33m(\u001b[0m\u001b[1;33m)\u001b[0m\u001b[1;33m\u001b[0m\u001b[1;33m\u001b[0m\u001b[0m\n\u001b[1;32m---> 13\u001b[1;33m \u001b[0mtime\u001b[0m\u001b[1;33m.\u001b[0m\u001b[0msleep\u001b[0m\u001b[1;33m(\u001b[0m\u001b[1;36m20\u001b[0m\u001b[1;33m)\u001b[0m\u001b[1;33m\u001b[0m\u001b[1;33m\u001b[0m\u001b[0m\n\u001b[0m",
      "\u001b[1;31mKeyboardInterrupt\u001b[0m: "
     ]
    }
   ],
   "source": [
    "eligibility_question = WebDriverWait(driver, 30).until(\n",
    "    EC.presence_of_element_located((By.XPATH, \"//label[contains(@class, 'ListView') and contains(text(), 'Are you eligible/legally entitled to work in the country')]\"))\n",
    ")\n",
    "dropdown_arrow = WebDriverWait(driver, 30).until(\n",
    "    EC.element_to_be_clickable((By.XPATH, \"//span[@class='ui-selectmenu-text' and @id='custom_5091_32_fname_slt_0_5091-button_text']\"))\n",
    ")\n",
    "dropdown_arrow.click()\n",
    "time.sleep(10)  # Wait for the dropdown to appear\n",
    "option_yes = WebDriverWait(driver, 30).until(\n",
    "    EC.element_to_be_clickable((By.XPATH,  \"//li[@aria-label='Yes']\"))\n",
    ")\n",
    "option_yes.click()\n",
    "time.sleep(20)"
   ]
  },
  {
   "cell_type": "code",
   "execution_count": 7,
   "metadata": {
    "metadata": {}
   },
   "outputs": [
    {
     "ename": "TimeoutException",
     "evalue": "Message: \n",
     "output_type": "error",
     "traceback": [
      "\u001b[1;31m---------------------------------------------------------------------------\u001b[0m",
      "\u001b[1;31mTimeoutException\u001b[0m                          Traceback (most recent call last)",
      "\u001b[1;32m~\\AppData\\Local\\Temp\\ipykernel_17804\\2177925097.py\u001b[0m in \u001b[0;36m<module>\u001b[1;34m\u001b[0m\n\u001b[0;32m      1\u001b[0m \u001b[1;31m# Click on the dropdown to expand it\u001b[0m\u001b[1;33m\u001b[0m\u001b[1;33m\u001b[0m\u001b[0m\n\u001b[1;32m----> 2\u001b[1;33m dropdown = WebDriverWait(driver, 30).until(\n\u001b[0m\u001b[0;32m      3\u001b[0m     \u001b[0mEC\u001b[0m\u001b[1;33m.\u001b[0m\u001b[0melement_to_be_clickable\u001b[0m\u001b[1;33m(\u001b[0m\u001b[1;33m(\u001b[0m\u001b[0mBy\u001b[0m\u001b[1;33m.\u001b[0m\u001b[0mID\u001b[0m\u001b[1;33m,\u001b[0m \u001b[1;34m\"custom_14660_214_fname_mslt_0_6141-input\"\u001b[0m\u001b[1;33m)\u001b[0m\u001b[1;33m)\u001b[0m\u001b[1;33m\u001b[0m\u001b[1;33m\u001b[0m\u001b[0m\n\u001b[0;32m      4\u001b[0m )\n\u001b[0;32m      5\u001b[0m \u001b[0mdropdown\u001b[0m\u001b[1;33m.\u001b[0m\u001b[0mclick\u001b[0m\u001b[1;33m(\u001b[0m\u001b[1;33m)\u001b[0m\u001b[1;33m\u001b[0m\u001b[1;33m\u001b[0m\u001b[0m\n",
      "\u001b[1;32m~\\AppData\\Roaming\\Python\\Python39\\site-packages\\selenium\\webdriver\\support\\wait.py\u001b[0m in \u001b[0;36muntil\u001b[1;34m(self, method, message)\u001b[0m\n\u001b[0;32m     93\u001b[0m             \u001b[1;32mif\u001b[0m \u001b[0mtime\u001b[0m\u001b[1;33m.\u001b[0m\u001b[0mmonotonic\u001b[0m\u001b[1;33m(\u001b[0m\u001b[1;33m)\u001b[0m \u001b[1;33m>\u001b[0m \u001b[0mend_time\u001b[0m\u001b[1;33m:\u001b[0m\u001b[1;33m\u001b[0m\u001b[1;33m\u001b[0m\u001b[0m\n\u001b[0;32m     94\u001b[0m                 \u001b[1;32mbreak\u001b[0m\u001b[1;33m\u001b[0m\u001b[1;33m\u001b[0m\u001b[0m\n\u001b[1;32m---> 95\u001b[1;33m         \u001b[1;32mraise\u001b[0m \u001b[0mTimeoutException\u001b[0m\u001b[1;33m(\u001b[0m\u001b[0mmessage\u001b[0m\u001b[1;33m,\u001b[0m \u001b[0mscreen\u001b[0m\u001b[1;33m,\u001b[0m \u001b[0mstacktrace\u001b[0m\u001b[1;33m)\u001b[0m\u001b[1;33m\u001b[0m\u001b[1;33m\u001b[0m\u001b[0m\n\u001b[0m\u001b[0;32m     96\u001b[0m \u001b[1;33m\u001b[0m\u001b[0m\n\u001b[0;32m     97\u001b[0m     \u001b[1;32mdef\u001b[0m \u001b[0muntil_not\u001b[0m\u001b[1;33m(\u001b[0m\u001b[0mself\u001b[0m\u001b[1;33m,\u001b[0m \u001b[0mmethod\u001b[0m\u001b[1;33m,\u001b[0m \u001b[0mmessage\u001b[0m\u001b[1;33m:\u001b[0m \u001b[0mstr\u001b[0m \u001b[1;33m=\u001b[0m \u001b[1;34m\"\"\u001b[0m\u001b[1;33m)\u001b[0m\u001b[1;33m:\u001b[0m\u001b[1;33m\u001b[0m\u001b[1;33m\u001b[0m\u001b[0m\n",
      "\u001b[1;31mTimeoutException\u001b[0m: Message: \n"
     ]
    }
   ],
   "source": [
    "# Click on the dropdown to expand it\n",
    "dropdown = WebDriverWait(driver, 30).until(\n",
    "    EC.element_to_be_clickable((By.ID, \"custom_14660_214_fname_mslt_0_6141-input\"))\n",
    ")\n",
    "dropdown.click()\n",
    "\n",
    "# Wait for the search box to be visible\n",
    "search_box = WebDriverWait(driver, 10).until(\n",
    "    EC.visibility_of_element_located((By.XPATH, \"//input[@id='custom_14660_214_fname_mslt_0_6141-input']\"))\n",
    ")\n",
    "\n",
    "# Input the text \"India\" into the search box\n",
    "search_box.send_keys(\"India\")\n",
    "\n",
    "# Wait for the options to be filtered based on the search text\n",
    "# You may need to wait for a brief moment for the options to be filtered\n",
    "time.sleep(2)  # Adjust the wait time as needed\n",
    "\n",
    "# Locate and click on the desired option\n",
    "dropdown_list = WebDriverWait(driver, 30).until(\n",
    "    EC.visibility_of_element_located((By.ID, \"custom_14660_214_fname_mslt_0_6141-input_listbox\"))\n",
    ")\n",
    "\n",
    "# Locate the option for \"India\" within the dropdown list\n",
    "option_india = dropdown_list.find_element(By.XPATH, \"//div[contains(@id, 'ui-id-') and contains(text(), 'India')]\")\n",
    "\n",
    "# Click on the option for \"India\"\n",
    "option_india.click()"
   ]
  },
  {
   "cell_type": "code",
   "execution_count": null,
   "metadata": {
    "metadata": {}
   },
   "outputs": [],
   "source": []
  },
  {
   "cell_type": "code",
   "execution_count": 69,
   "metadata": {},
   "outputs": [
    {
     "name": "stdout",
     "output_type": "stream",
     "text": [
      "Column Names: ['link']\n"
     ]
    }
   ],
   "source": [
    "import pandas as pd\n",
    "\n",
    "# Read the CSV file\n",
    "df = pd.read_csv(\"LinksIBM.csv\")\n",
    "\n",
    "# Get the column names\n",
    "column_names = df.columns.tolist()\n",
    "\n",
    "# Print the column names\n",
    "print(\"Column Names:\", column_names)"
   ]
  },
  {
   "cell_type": "code",
   "execution_count": 19,
   "metadata": {},
   "outputs": [],
   "source": [
    "wait = WebDriverWait(driver, 20)\n",
    "\n",
    "start_button = WebDriverWait(driver, 30).until(\n",
    "    EC.element_to_be_clickable((By.XPATH, \"//span[@class='ladda-label' and text()=\\\"Let's get started\\\"]\"))\n",
    ")\n",
    "\n",
    "# Click on the \"Let's get started\" button\n",
    "start_button.click()"
   ]
  },
  {
   "cell_type": "code",
   "execution_count": 5,
   "metadata": {
    "metadata": {}
   },
   "outputs": [],
   "source": [
    "import pandas as pd\n",
    "\n",
    "df = pd.read_csv(\"LinksIBM.csv\")\n",
    "\n",
    "# Get the first link from the DataFrame\n",
    "first_link = df['link'].iloc[0]\n",
    "\n",
    "# Navigate to the first link\n",
    "driver.get(first_link)"
   ]
  },
  {
   "cell_type": "code",
   "execution_count": 6,
   "metadata": {
    "metadata": {}
   },
   "outputs": [],
   "source": [
    "apply_span = WebDriverWait(driver, 30).until(\n",
    "        EC.element_to_be_clickable((By.XPATH, \"//span[@class='ladda-label' and contains(text(), 'Apply to job(s)')]\"))\n",
    "    )\n",
    "apply_span.click() "
   ]
  },
  {
   "cell_type": "code",
   "execution_count": 7,
   "metadata": {
    "metadata": {}
   },
   "outputs": [],
   "source": [
    "wait = WebDriverWait(driver, 20)\n",
    "\n",
    "start_button = WebDriverWait(driver, 30).until(\n",
    "    EC.element_to_be_clickable((By.XPATH, \"//span[@class='ladda-label' and text()=\\\"Let's get started\\\"]\"))\n",
    ")\n",
    "\n",
    "# Click on the \"Let's get started\" button\n",
    "start_button.click()"
   ]
  },
  {
   "cell_type": "code",
   "execution_count": 8,
   "metadata": {
    "metadata": {}
   },
   "outputs": [],
   "source": [
    "wait = WebDriverWait(driver, 20)\n",
    "checkbox = WebDriverWait(driver, 30).until(\n",
    "    EC.presence_of_element_located((By.ID, \"checkbox-16445-I agree\"))\n",
    ")\n",
    "\n",
    "# Check if the checkbox is already checked\n",
    "if not checkbox.is_selected():\n",
    "    # If not checked, click on it to tick the checkbox\n",
    "    checkbox.click()"
   ]
  },
  {
   "cell_type": "code",
   "execution_count": 9,
   "metadata": {
    "metadata": {}
   },
   "outputs": [],
   "source": [
    "wait = WebDriverWait(driver, 20)\n",
    "save_and_continue_button = WebDriverWait(driver, 30).until(\n",
    "    EC.element_to_be_clickable((By.XPATH, \"//span[contains(@class, 'ladda-label') and text()='Save and continue']\"))\n",
    ")\n",
    "\n",
    "# Click on the button\n",
    "save_and_continue_button.click()"
   ]
  },
  {
   "cell_type": "code",
   "execution_count": 10,
   "metadata": {
    "metadata": {}
   },
   "outputs": [],
   "source": [
    "wait = WebDriverWait(driver, 20)\n",
    "save_and_continue_button = WebDriverWait(driver, 30).until(\n",
    "    EC.element_to_be_clickable((By.XPATH, \"//span[contains(@class, 'ladda-label') and text()='Save and continue']\"))\n",
    ")\n",
    "\n",
    "# Click on the button\n",
    "save_and_continue_button.click()"
   ]
  },
  {
   "cell_type": "code",
   "execution_count": 13,
   "metadata": {},
   "outputs": [
    {
     "data": {
      "text/plain": [
       "['265D10068DF3A2457679DECD44864B15']"
      ]
     },
     "execution_count": 13,
     "metadata": {},
     "output_type": "execute_result"
    }
   ],
   "source": [
    "driver.window_handles"
   ]
  },
  {
   "cell_type": "code",
   "execution_count": 11,
   "metadata": {
    "metadata": {}
   },
   "outputs": [
    {
     "name": "stdout",
     "output_type": "stream",
     "text": [
      "['AE392E540E02FB52DBE8B7D82107B31A']\n"
     ]
    }
   ],
   "source": [
    "\n",
    "wait = WebDriverWait(driver, 20)\n",
    "handles=driver.window_handles\n",
    "\n",
    "print(handles)\n",
    "\n",
    "add_resume_link = WebDriverWait(driver, 30).until(\n",
    "    EC.element_to_be_clickable((By.XPATH, \"//a[contains(text(), 'Add résumé/CV')]\"))\n",
    ")\n",
    "add_resume_link.click()\n"
   ]
  },
  {
   "cell_type": "code",
   "execution_count": null,
   "metadata": {},
   "outputs": [],
   "source": []
  },
  {
   "cell_type": "code",
   "execution_count": 12,
   "metadata": {
    "metadata": {}
   },
   "outputs": [
    {
     "name": "stdout",
     "output_type": "stream",
     "text": [
      "after switch\n"
     ]
    }
   ],
   "source": [
    "\n",
    "# Switch to the iframe\n",
    "iframe = WebDriverWait(driver, 30).until(\n",
    "    EC.presence_of_element_located((By.XPATH, '/html/body/div[5]/div[2]/iframe'))\n",
    ")\n",
    "driver.switch_to.frame(iframe)\n",
    "\n",
    "print(\"after switch\")\n",
    "\n",
    "# Now you can interact with elements inside the iframe\n",
    "saved_resumes_button = WebDriverWait(driver, 30).until(\n",
    "    EC.element_to_be_clickable((By.XPATH, \"//span[@class='button-label' and text()='Saved résumés/CVs']\"))\n",
    ")\n",
    "\n",
    "# Click on the button\n",
    "saved_resumes_button.click()"
   ]
  },
  {
   "cell_type": "code",
   "execution_count": 13,
   "metadata": {
    "metadata": {}
   },
   "outputs": [],
   "source": [
    "wait = WebDriverWait(driver, 20)\n",
    "radio_button = WebDriverWait(driver, 30).until(\n",
    "    EC.element_to_be_clickable((By.XPATH, \"//label[contains(@class, 'ng-binding') and text()='CV_Sanket_Nawale_M.pdf']\"))\n",
    ")\n",
    "\n",
    "# Click on the radio button to select the option\n",
    "radio_button.click()"
   ]
  },
  {
   "cell_type": "code",
   "execution_count": 14,
   "metadata": {
    "metadata": {}
   },
   "outputs": [],
   "source": [
    "wait = WebDriverWait(driver, 20)\n",
    "add_file_button = WebDriverWait(driver, 30).until(\n",
    "    EC.element_to_be_clickable((By.XPATH, \"//span[@class='button-label' and text()='Add file']\"))\n",
    ")\n",
    "\n",
    "# Click on the \"Add file\" button\n",
    "add_file_button.click()\n"
   ]
  },
  {
   "cell_type": "code",
   "execution_count": 16,
   "metadata": {
    "metadata": {}
   },
   "outputs": [],
   "source": [
    "wait = WebDriverWait(driver, 20)\n",
    "driver.switch_to.window(main_window)\n",
    "\n",
    "# Wait for the \"Save and continue\" button to be clickable\n",
    "save_and_continue_button = WebDriverWait(driver, 30).until(\n",
    "    EC.element_to_be_clickable((By.XPATH, \"//span[@class='ladda-label' and text()='Save and continue']\"))\n",
    ")\n",
    "\n",
    "# Click on the \"Save and continue\" button\n",
    "save_and_continue_button.click()"
   ]
  },
  {
   "cell_type": "code",
   "execution_count": 17,
   "metadata": {
    "metadata": {}
   },
   "outputs": [],
   "source": [
    "wait = WebDriverWait(driver, 20)\n",
    "send_application_button = WebDriverWait(driver, 30).until(\n",
    "    EC.element_to_be_clickable((By.XPATH, \"//span[@class='ladda-label' and text()='Send my application']\"))\n",
    ")\n",
    "\n",
    "# Click on the \"Send my application\" button\n",
    "send_application_button.click()"
   ]
  }
 ],
 "metadata": {
  "kernelspec": {
   "display_name": "base",
   "language": "python",
   "name": "python3"
  },
  "language_info": {
   "codemirror_mode": {
    "name": "ipython",
    "version": 3
   },
   "file_extension": ".py",
   "mimetype": "text/x-python",
   "name": "python",
   "nbconvert_exporter": "python",
   "pygments_lexer": "ipython3",
   "version": "3.9.13"
  }
 },
 "nbformat": 4,
 "nbformat_minor": 2
}
